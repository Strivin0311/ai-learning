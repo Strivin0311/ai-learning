{
 "cells": [
  {
   "cell_type": "markdown",
   "id": "freelance-kruger",
   "metadata": {},
   "source": [
    "## Basic API for OpenCV chapter8~14"
   ]
  },
  {
   "cell_type": "code",
   "execution_count": 1,
   "id": "restricted-nightlife",
   "metadata": {},
   "outputs": [],
   "source": [
    "import cv2\n",
    "import matplotlib.pyplot as plt\n",
    "import numpy as np"
   ]
  },
  {
   "cell_type": "markdown",
   "id": "taken-fever",
   "metadata": {},
   "source": [
    "### 8. 滤波操作"
   ]
  },
  {
   "cell_type": "code",
   "execution_count": null,
   "id": "taken-somewhere",
   "metadata": {},
   "outputs": [],
   "source": [
    "## average filter\n",
    "#     | 1 1 1 |\n",
    "# K = | 1 1 1 | / 9\n",
    "#     | 1 1 1 |\n",
    "cat = cv2.imread('../data/gray cat.jpeg')\n",
    "print(cat.shape)\n",
    "# define kernel, dtype has to be float32\n",
    "kernel = np.ones((5,5),dtype=np.float32) / 25. # average kernel\n",
    "# ddepth means the output size, -1 means the same size as input by default\n",
    "filtered_cat = cv2.filter2D(cat,ddepth=-1,kernel=kernel)\n",
    "print(filtered_cat.shape)\n",
    "cv2.imshow('filter',np.hstack([cat,filtered_cat]))\n",
    "cv2.waitKey(0)\n",
    "cv2.destroyAllWindows()\n",
    "cv2.waitKey(1)"
   ]
  },
  {
   "cell_type": "code",
   "execution_count": null,
   "id": "continental-approval",
   "metadata": {},
   "outputs": [],
   "source": [
    "## outline filter\n",
    "#     | -1 -1 -1 |\n",
    "# K = | -1  8 -1 |\n",
    "#     | -1 -1 -1 |\n",
    "cat = cv2.imread\n",
    "cat = cv2.imread('../data/gray cat.jpeg')\n",
    "print(cat.shape)\n",
    "# define kernel, dtype has to be float32\n",
    "kernel =np.array([[-1,-1,-1],[-1,8,-1],[-1,-1,-1]],dtype=np.float32) # outline kernel\n",
    "# ddepth means the output size, -1 means the same size as input by default\n",
    "filtered_cat = cv2.filter2D(cat,ddepth=-1,kernel=kernel)\n",
    "print(filtered_cat.shape)\n",
    "cv2.imshow('filter',np.hstack([cat,filtered_cat]))\n",
    "cv2.waitKey(0)\n",
    "cv2.destroyAllWindows()\n",
    "cv2.waitKey(1)"
   ]
  },
  {
   "cell_type": "code",
   "execution_count": null,
   "id": "demanding-seattle",
   "metadata": {},
   "outputs": [],
   "source": [
    "## sharpening filter\n",
    "#     | 0 -1  0 |\n",
    "# K = | -1 5 -1 |\n",
    "#     | 0 -1  0 |\n",
    "cat = cv2.imread\n",
    "cat = cv2.imread('../data/gray cat.jpeg')\n",
    "print(cat.shape)\n",
    "# define kernel, dtype has to be float32\n",
    "kernel =np.array([[0,-1,0],[-1,5,-1],[0,-1,0]],dtype=np.float32) # sharpening kernel\n",
    "# ddepth means the output size, -1 means the same size as input by default\n",
    "filtered_cat = cv2.filter2D(cat,ddepth=-1,kernel=kernel)\n",
    "print(filtered_cat.shape)\n",
    "cv2.imshow('filter',np.hstack([cat,filtered_cat]))\n",
    "cv2.waitKey(0)\n",
    "cv2.destroyAllWindows()\n",
    "cv2.waitKey(1)"
   ]
  },
  {
   "cell_type": "code",
   "execution_count": null,
   "id": "involved-documentary",
   "metadata": {},
   "outputs": [],
   "source": [
    "## box filter\n",
    "#     | 1 1 1 |\n",
    "# K = | 1 1 1 | * α\n",
    "#     | 1 1 1 |\n",
    "cat = cv2.imread\n",
    "cat = cv2.imread('../data/gray cat.jpeg')\n",
    "print(cat.shape)\n",
    "# normalize = True => box filter equals to average filter\n",
    "filtered_cat = cv2.boxFilter(cat,ddepth=-1,ksize=(5,5),normalize=True)\n",
    "print(filtered_cat.shape)\n",
    "cv2.imshow('filter',np.hstack([cat,filtered_cat]))\n",
    "cv2.waitKey(0)\n",
    "cv2.destroyAllWindows()\n",
    "cv2.waitKey(1)"
   ]
  },
  {
   "cell_type": "code",
   "execution_count": null,
   "id": "loved-butterfly",
   "metadata": {},
   "outputs": [],
   "source": [
    "## blur filter\n",
    "#     | 1 1 1 |\n",
    "# K = | 1 1 1 | / 9\n",
    "#     | 1 1 1 |\n",
    "cat = cv2.imread\n",
    "cat = cv2.imread('../data/gray cat.jpeg')\n",
    "print(cat.shape)\n",
    "# dont need ddepth\n",
    "filtered_cat = cv2.blur(cat,ksize=(5,5))\n",
    "print(filtered_cat.shape)\n",
    "cv2.imshow('filter',np.hstack([cat,filtered_cat]))\n",
    "cv2.waitKey(0)\n",
    "cv2.destroyAllWindows()\n",
    "cv2.waitKey(1)"
   ]
  },
  {
   "cell_type": "code",
   "execution_count": null,
   "id": "disciplinary-domain",
   "metadata": {},
   "outputs": [],
   "source": [
    "## Gaussian filter\n",
    "#     | μ-2σ μ-σ μ-2σ |\n",
    "# K = | μ-σ  μ   μ-σ  | (maybe)\n",
    "#     | μ-2σ μ-σ μ-2σ |\n",
    "cat = cv2.imread\n",
    "cat = cv2.imread('../data/cute cat.jpeg')\n",
    "\n",
    "filtered_cat = cv2.GaussianBlur(cat,ksize=(7,7),sigmaX=100) # for Gaussian noise\n",
    "\n",
    "cv2.imshow('filter',np.hstack([cat,filtered_cat]))\n",
    "\n",
    "cv2.waitKey(0)\n",
    "cv2.destroyAllWindows()\n",
    "cv2.waitKey(1)"
   ]
  },
  {
   "cell_type": "code",
   "execution_count": null,
   "id": "quarterly-stress",
   "metadata": {},
   "outputs": [],
   "source": [
    "## median filter\n",
    "#     | 0 0 0 |\n",
    "# K = | 0 m 0 | (m is median)\n",
    "#     | 0 0 0 |\n",
    "dog = cv2.imread('../data/pepper dog.png')\n",
    "\n",
    "filtered_dog = cv2.medianBlur(dog,ksize=9) # for pepper noise\n",
    "\n",
    "cv2.imshow('filter',np.hstack([dog,filtered_dog]))\n",
    "\n",
    "cv2.waitKey(0)\n",
    "cv2.destroyAllWindows()\n",
    "cv2.waitKey(1)"
   ]
  },
  {
   "cell_type": "code",
   "execution_count": null,
   "id": "listed-blocking",
   "metadata": {},
   "outputs": [],
   "source": [
    "## bilateral filter\n",
    "# K = GaussianK + GrayK\n",
    "woman = cv2.imread('../data/old woman.jpeg')\n",
    "\n",
    "filtered_woman = cv2.bilateralFilter(woman,d=13,sigmaColor=100,sigmaSpace=500) # for beautifying\n",
    "\n",
    "cv2.imshow('filter',np.hstack([woman,filtered_woman]))\n",
    "\n",
    "cv2.waitKey(0)\n",
    "cv2.destroyAllWindows()\n",
    "cv2.waitKey(1)"
   ]
  },
  {
   "cell_type": "markdown",
   "id": "thousand-technology",
   "metadata": {},
   "source": [
    "### 9. 边缘检测"
   ]
  },
  {
   "cell_type": "code",
   "execution_count": null,
   "id": "pacific-privacy",
   "metadata": {},
   "outputs": [],
   "source": [
    "## Sobel filter\n",
    "#      | -1 0 1 |       | -1 -2 -1 |\n",
    "# Kx = | -2 0 2 |, Ky = |  0  0  0 |\n",
    "#      | -1 0 1 |       |  1  2  1 |\n",
    "woman = cv2.imread('../data/old woman.jpeg')\n",
    "\n",
    "# it has to calculate twice, one for x and the other for y\n",
    "filtered_woman_x = cv2.Sobel(woman,ddepth=-1,dx=1,dy=0,ksize=5) # x gradient\n",
    "filtered_woman_y = cv2.Sobel(woman,ddepth=-1,dx=0,dy=1,ksize=5) # y gradient\n",
    "# and then, combine\n",
    "filtered_woman = cv2.add(filtered_woman_x,filtered_woman_y)\n",
    "\n",
    "cv2.imshow('filter',np.hstack([woman,filtered_woman_x,filtered_woman_y,filtered_woman]))\n",
    "\n",
    "cv2.waitKey(0)\n",
    "cv2.destroyAllWindows()\n",
    "cv2.waitKey(1)"
   ]
  },
  {
   "cell_type": "code",
   "execution_count": 2,
   "id": "textile-equation",
   "metadata": {},
   "outputs": [
    {
     "data": {
      "text/plain": [
       "-1"
      ]
     },
     "execution_count": 2,
     "metadata": {},
     "output_type": "execute_result"
    }
   ],
   "source": [
    "## Scharr filter\n",
    "#      | -3  0  3 |       | -3 -10 -3 |\n",
    "# Kx = | -10 0 10 |, Ky = |  0  0   0 |\n",
    "#      | -3  0  3 |       |  3  10  3 |\n",
    "woman = cv2.imread('../data/old woman.jpeg')\n",
    "\n",
    "# Sharr filter's kernel size fixes at 3\n",
    "# it has to calculate twice, one for x and the other for y\n",
    "filtered_woman_x = cv2.Scharr(woman,ddepth=-1,dx=1,dy=0) # x gradient\n",
    "filtered_woman_y = cv2.Scharr(woman,ddepth=-1,dx=0,dy=1) # y gradient\n",
    "# and then, combine\n",
    "filtered_woman = cv2.add(filtered_woman_x,filtered_woman_y)\n",
    "\n",
    "cv2.imshow('filter',np.hstack([woman,filtered_woman_x,filtered_woman_y,filtered_woman]))\n",
    "\n",
    "cv2.waitKey(0)\n",
    "cv2.destroyAllWindows()\n",
    "cv2.waitKey(1)"
   ]
  },
  {
   "cell_type": "code",
   "execution_count": 3,
   "id": "forty-tolerance",
   "metadata": {},
   "outputs": [
    {
     "data": {
      "text/plain": [
       "-1"
      ]
     },
     "execution_count": 3,
     "metadata": {},
     "output_type": "execute_result"
    }
   ],
   "source": [
    "## Laplacian filter\n",
    "#     | 0  1 0 |\n",
    "# K = | 1 -4 1 |\n",
    "#     | 0  1 0 |\n",
    "woman = cv2.imread('../data/old woman.jpeg')\n",
    "\n",
    "filtered_woman = cv2.Laplacian(woman,ddepth=-1,ksize=5) # sensitive to noise(so often combined with Gaussian)\n",
    "\n",
    "cv2.imshow('filter',np.hstack([woman,filtered_woman]))\n",
    "\n",
    "cv2.waitKey(0)\n",
    "cv2.destroyAllWindows()\n",
    "cv2.waitKey(1)"
   ]
  },
  {
   "cell_type": "code",
   "execution_count": 27,
   "id": "visible-nigeria",
   "metadata": {},
   "outputs": [
    {
     "data": {
      "text/plain": [
       "-1"
      ]
     },
     "execution_count": 27,
     "metadata": {},
     "output_type": "execute_result"
    }
   ],
   "source": [
    "## Canny filter\n",
    "# step1: Gaussian denoise\n",
    "# step2: sobel-gradient(include magnitude and direction)\n",
    "# step3: NMS for points with the same gradient direction\n",
    "# step4: threshold supress \n",
    "#       (keep points over max_threshold, discard those under min_threshold, choose those between them)\n",
    "woman = cv2.imread('../data/old woman.jpeg')\n",
    "\n",
    "canny_woman = cv2.Canny(woman,threshold1=350,threshold2=400) # threshold1,2 are hyper params\n",
    "\n",
    "cv2.imshow('canny',np.hstack([cv2.cvtColor(woman,cv2.COLOR_BGR2GRAY),canny_woman]))\n",
    "\n",
    "cv2.waitKey(0)\n",
    "cv2.destroyAllWindows()\n",
    "cv2.waitKey(1)"
   ]
  },
  {
   "cell_type": "markdown",
   "id": "active-fusion",
   "metadata": {},
   "source": [
    "### 10. 形态学操作"
   ]
  },
  {
   "cell_type": "code",
   "execution_count": 7,
   "id": "approved-benefit",
   "metadata": {},
   "outputs": [
    {
     "name": "stdout",
     "output_type": "stream",
     "text": [
      "110.0\n"
     ]
    },
    {
     "data": {
      "text/plain": [
       "-1"
      ]
     },
     "execution_count": 7,
     "metadata": {},
     "output_type": "execute_result"
    }
   ],
   "source": [
    "## global binary threshold\n",
    "# @param type:\n",
    "# cv2.THRESH_BINARY: dst(x,y) = src(x,y)>threshold? maxval:0\n",
    "# cv2.THRESH_BINARY_INV: dst(x,y) = src(x,y)>threshold? 0:maxval\n",
    "# cv2.THRESH_TRUNC: dst(x,y) = src(x,y)>threshold?threshold:src(x,y)\n",
    "# cv2.THRESH_TOZERO: dst(x,y) = src(x,y)>threshold?src(x,y):0\n",
    "dog = cv2.imread('../data/skinny dog.jpeg')\n",
    "\n",
    "dog = cv2.cvtColor(dog,code=cv2.COLOR_BGR2GRAY) # threshold for gray image\n",
    "\n",
    "thresh,thresh_dog = cv2.threshold(dog,thresh=110,maxval=255,type=cv2.THRESH_BINARY) # return threshold and img\n",
    "print(thresh)\n",
    "\n",
    "cv2.imshow('threshold',np.hstack([dog,thresh_dog]))\n",
    "\n",
    "cv2.waitKey(0)\n",
    "cv2.destroyAllWindows()\n",
    "cv2.waitKey(1)"
   ]
  },
  {
   "cell_type": "code",
   "execution_count": 18,
   "id": "consecutive-washer",
   "metadata": {},
   "outputs": [
    {
     "data": {
      "text/plain": [
       "-1"
      ]
     },
     "execution_count": 18,
     "metadata": {},
     "output_type": "execute_result"
    }
   ],
   "source": [
    "## local adaptive binary threshold\n",
    "dog = cv2.imread('../data/skinny dog.jpeg')\n",
    "dog = cv2.cvtColor(dog,code=cv2.COLOR_BGR2GRAY) # threshold for gray image\n",
    "\n",
    "thresh_dog = cv2.adaptiveThreshold(dog, maxValue=255, blockSize=41, C=0,\n",
    "                                          adaptiveMethod=cv2.ADAPTIVE_THRESH_GAUSSIAN_C, \n",
    "                                          thresholdType=cv2.THRESH_BINARY_INV) # return img only\n",
    "\n",
    "cv2.imshow('threshold',np.hstack([dog,thresh_dog]))\n",
    "\n",
    "cv2.waitKey(0)\n",
    "cv2.destroyAllWindows()\n",
    "cv2.waitKey(1)"
   ]
  },
  {
   "cell_type": "code",
   "execution_count": 35,
   "id": "ideal-snake",
   "metadata": {},
   "outputs": [
    {
     "name": "stdout",
     "output_type": "stream",
     "text": [
      "rectangle: \n",
      " [[1 1 1 1 1]\n",
      " [1 1 1 1 1]\n",
      " [1 1 1 1 1]\n",
      " [1 1 1 1 1]\n",
      " [1 1 1 1 1]]\n",
      "ellipse: \n",
      " [[0 0 1 0 0]\n",
      " [1 1 1 1 1]\n",
      " [1 1 1 1 1]\n",
      " [1 1 1 1 1]\n",
      " [0 0 1 0 0]]\n",
      "cross: \n",
      " [[0 0 1 0 0]\n",
      " [0 0 1 0 0]\n",
      " [1 1 1 1 1]\n",
      " [0 0 1 0 0]\n",
      " [0 0 1 0 0]]\n"
     ]
    },
    {
     "data": {
      "text/plain": [
       "-1"
      ]
     },
     "execution_count": 35,
     "metadata": {},
     "output_type": "execute_result"
    }
   ],
   "source": [
    "## erode\n",
    "# only keep the anchor white when every pixel is white in its kernel area\n",
    "\n",
    "dog = cv2.imread('../data/skinny dog.jpeg')\n",
    "dog = cv2.cvtColor(dog,code=cv2.COLOR_BGR2GRAY) # erode for gray image\n",
    "\n",
    "# define the kernel, often ones\n",
    "# kernel = np.ones((5,5),dtype=np.uint8)\n",
    "# get morphology structuring element, shape usually MORPH_RECT, MORPH_ELLIPSE, MORPH_CROSS\n",
    "kernel_rect = cv2.getStructuringElement(shape=cv2.MORPH_RECT,ksize=(5,5)) \n",
    "kernel_ellipse = cv2.getStructuringElement(shape=cv2.MORPH_ELLIPSE,ksize=(5,5)) \n",
    "kernel_cross = cv2.getStructuringElement(shape=cv2.MORPH_CROSS,ksize=(5,5)) \n",
    "\n",
    "print(\"rectangle: \\n\",kernel_rect)\n",
    "print(\"ellipse: \\n\",kernel_ellipse)\n",
    "print(\"cross: \\n\",kernel_cross)\n",
    "\n",
    "erode_dog = cv2.erode(dog,kernel_rect,iterations=1)\n",
    "\n",
    "cv2.imshow('erode',np.hstack([dog,erode_dog]))\n",
    "\n",
    "cv2.waitKey(0)\n",
    "cv2.destroyAllWindows()\n",
    "cv2.waitKey(1)"
   ]
  },
  {
   "cell_type": "code",
   "execution_count": 36,
   "id": "informative-compilation",
   "metadata": {},
   "outputs": [
    {
     "data": {
      "text/plain": [
       "-1"
      ]
     },
     "execution_count": 36,
     "metadata": {},
     "output_type": "execute_result"
    }
   ],
   "source": [
    "## dilate\n",
    "# keep  every pixel in its kernel area white only if the anchor is white\n",
    "\n",
    "dog = cv2.imread('../data/skinny dog.jpeg')\n",
    "dog = cv2.cvtColor(dog,code=cv2.COLOR_BGR2GRAY) # dilate for gray image\n",
    "\n",
    "# define the kernel\n",
    "kernel = cv2.getStructuringElement(shape=cv2.MORPH_RECT,ksize=(5,5)) \n",
    "\n",
    "dilate_dog = cv2.dilate(dog,kernel,iterations=1)\n",
    "\n",
    "cv2.imshow('dilate',np.hstack([dog,dilate_dog]))\n",
    "\n",
    "cv2.waitKey(0)\n",
    "cv2.destroyAllWindows()\n",
    "cv2.waitKey(1)"
   ]
  },
  {
   "cell_type": "code",
   "execution_count": 3,
   "id": "naked-student",
   "metadata": {},
   "outputs": [
    {
     "data": {
      "text/plain": [
       "-1"
      ]
     },
     "execution_count": 3,
     "metadata": {},
     "output_type": "execute_result"
    }
   ],
   "source": [
    "## open\n",
    "# open = erode + dilate, get rid or the outer noise\n",
    "dog = cv2.imread('../data/skinny dog.jpeg')\n",
    "dog = cv2.cvtColor(dog,code=cv2.COLOR_BGR2GRAY) # morphology for gray image\n",
    "\n",
    "# define the kernel\n",
    "kernel = cv2.getStructuringElement(shape=cv2.MORPH_RECT,ksize=(5,5)) \n",
    "\n",
    "open_dog = cv2.morphologyEx(dog,op=cv2.MORPH_OPEN,kernel=kernel,iterations=1)\n",
    "\n",
    "cv2.imshow('open',np.hstack([dog,open_dog]))\n",
    "\n",
    "cv2.waitKey(0)\n",
    "cv2.destroyAllWindows()\n",
    "cv2.waitKey(1)"
   ]
  },
  {
   "cell_type": "code",
   "execution_count": 4,
   "id": "fiscal-worker",
   "metadata": {},
   "outputs": [
    {
     "data": {
      "text/plain": [
       "-1"
      ]
     },
     "execution_count": 4,
     "metadata": {},
     "output_type": "execute_result"
    }
   ],
   "source": [
    "## close\n",
    "# close = dilate + erode, get rid or the inner noise\n",
    "dog = cv2.imread('../data/skinny dog.jpeg')\n",
    "dog = cv2.cvtColor(dog,code=cv2.COLOR_BGR2GRAY) # morphology for gray image\n",
    "\n",
    "# define the kernel\n",
    "kernel = cv2.getStructuringElement(shape=cv2.MORPH_RECT,ksize=(5,5)) \n",
    "\n",
    "close_dog = cv2.morphologyEx(dog,op=cv2.MORPH_CLOSE,kernel=kernel,iterations=1)\n",
    "\n",
    "cv2.imshow('close',np.hstack([dog,close_dog]))\n",
    "\n",
    "cv2.waitKey(0)\n",
    "cv2.destroyAllWindows()\n",
    "cv2.waitKey(1)"
   ]
  },
  {
   "cell_type": "code",
   "execution_count": 7,
   "id": "positive-injection",
   "metadata": {},
   "outputs": [
    {
     "data": {
      "text/plain": [
       "-1"
      ]
     },
     "execution_count": 7,
     "metadata": {},
     "output_type": "execute_result"
    }
   ],
   "source": [
    "## gradient\n",
    "# gradient = ori - erode = rough edge\n",
    "dog = cv2.imread('../data/skinny dog.jpeg')\n",
    "dog = cv2.cvtColor(dog,code=cv2.COLOR_BGR2GRAY) # morphology for gray image\n",
    "\n",
    "# define the kernel\n",
    "kernel = cv2.getStructuringElement(shape=cv2.MORPH_RECT,ksize=(3,3)) \n",
    "\n",
    "gradient_dog = cv2.morphologyEx(dog,op=cv2.MORPH_GRADIENT,kernel=kernel,iterations=1)\n",
    "\n",
    "cv2.imshow('gradient',np.hstack([dog,gradient_dog]))\n",
    "\n",
    "cv2.waitKey(0)\n",
    "cv2.destroyAllWindows()\n",
    "cv2.waitKey(1)"
   ]
  },
  {
   "cell_type": "code",
   "execution_count": 8,
   "id": "theoretical-brush",
   "metadata": {},
   "outputs": [
    {
     "data": {
      "text/plain": [
       "-1"
      ]
     },
     "execution_count": 8,
     "metadata": {},
     "output_type": "execute_result"
    }
   ],
   "source": [
    "## tophat\n",
    "# tophat = ori - open = outer noise\n",
    "dog = cv2.imread('../data/skinny dog.jpeg')\n",
    "dog = cv2.cvtColor(dog,code=cv2.COLOR_BGR2GRAY) # morphology for gray image\n",
    "\n",
    "# define the kernel\n",
    "kernel = cv2.getStructuringElement(shape=cv2.MORPH_RECT,ksize=(5,5)) \n",
    "\n",
    "tophat_dog = cv2.morphologyEx(dog,op=cv2.MORPH_TOPHAT,kernel=kernel,iterations=1)\n",
    "\n",
    "cv2.imshow('tophat',np.hstack([dog,tophat_dog]))\n",
    "\n",
    "cv2.waitKey(0)\n",
    "cv2.destroyAllWindows()\n",
    "cv2.waitKey(1)"
   ]
  },
  {
   "cell_type": "code",
   "execution_count": 9,
   "id": "dedicated-lawyer",
   "metadata": {},
   "outputs": [
    {
     "data": {
      "text/plain": [
       "-1"
      ]
     },
     "execution_count": 9,
     "metadata": {},
     "output_type": "execute_result"
    }
   ],
   "source": [
    "## blackhat\n",
    "# blackhat = ori - close = inner noise\n",
    "dog = cv2.imread('../data/skinny dog.jpeg')\n",
    "dog = cv2.cvtColor(dog,code=cv2.COLOR_BGR2GRAY) # morphology for gray image\n",
    "\n",
    "# define the kernel\n",
    "kernel = cv2.getStructuringElement(shape=cv2.MORPH_RECT,ksize=(5,5)) \n",
    "\n",
    "blackhat_dog = cv2.morphologyEx(dog,op=cv2.MORPH_BLACKHAT,kernel=kernel,iterations=1)\n",
    "\n",
    "cv2.imshow('blackhat',np.hstack([dog,blackhat_dog]))\n",
    "\n",
    "cv2.waitKey(0)\n",
    "cv2.destroyAllWindows()\n",
    "cv2.waitKey(1)"
   ]
  },
  {
   "cell_type": "markdown",
   "id": "revolutionary-compiler",
   "metadata": {},
   "source": [
    "### 11. 轮廓操作"
   ]
  },
  {
   "cell_type": "code",
   "execution_count": 28,
   "id": "therapeutic-issue",
   "metadata": {},
   "outputs": [
    {
     "name": "stdout",
     "output_type": "stream",
     "text": [
      "<class 'tuple'>\n",
      "5644\n",
      "[[[   1   -1   -1   -1]\n",
      "  [   2    0   -1   -1]\n",
      "  [   3    1   -1   -1]\n",
      "  ...\n",
      "  [5642 5640   -1   -1]\n",
      "  [5643 5641   -1   -1]\n",
      "  [  -1 5642   -1   -1]]]\n"
     ]
    }
   ],
   "source": [
    "## find contours by different hierarchy\n",
    "# tree means tree-hierarchy\n",
    "# simple means only corners can be found\n",
    "woman = cv2.imread('../data/old woman.jpeg')\n",
    "gray_woman = cv2.cvtColor(woman,code=cv2.COLOR_BGR2GRAY) # BGR => GRAY\n",
    "thresh,binary_woman = cv2.threshold(gray_woman,thresh=180,maxval=255,type=cv2.THRESH_BINARY) # GRAY => BINARY\n",
    "\n",
    "\n",
    "contours, hierarchy = cv2.findContours(binary_woman,mode=cv2.RETR_TREE,\n",
    "                                       method=cv2.CHAIN_APPROX_SIMPLE) # using canny and others\n",
    "\n",
    "print(type(contours))\n",
    "print(len(contours))\n",
    "print(hierarchy)"
   ]
  },
  {
   "cell_type": "code",
   "execution_count": 13,
   "id": "applied-capitol",
   "metadata": {},
   "outputs": [
    {
     "data": {
      "text/plain": [
       "-1"
      ]
     },
     "execution_count": 13,
     "metadata": {},
     "output_type": "execute_result"
    }
   ],
   "source": [
    "## draw found contours (will change original image)\n",
    "contour_woman = woman.copy()\n",
    "cv2.drawContours(contour_woman,contours,contourIdx=-1,color=(0,0,255),thickness=1)\n",
    "\n",
    "cv2.imshow('contour',np.hstack([woman,contour_woman]))\n",
    "\n",
    "cv2.waitKey(0)\n",
    "cv2.destroyAllWindows()\n",
    "cv2.waitKey(1)"
   ]
  },
  {
   "cell_type": "code",
   "execution_count": 21,
   "id": "consecutive-lindsay",
   "metadata": {},
   "outputs": [
    {
     "name": "stdout",
     "output_type": "stream",
     "text": [
      "61282.5\n"
     ]
    },
    {
     "data": {
      "text/plain": [
       "-1"
      ]
     },
     "execution_count": 21,
     "metadata": {},
     "output_type": "execute_result"
    }
   ],
   "source": [
    "## calculate area and filter contours\n",
    "\n",
    "size = len(contours) // 100\n",
    "# filter the contours with low area\n",
    "area_sorted_contours = sorted(contours,key=lambda x:-cv2.contourArea(x)) # sort descending as area\n",
    "area_filtered_contours = area_sorted_contours[:size]\n",
    "\n",
    "max_area = cv2.contourArea(area_sorted_contours[0]) # area of the contour with max area\n",
    "print(max_area)\n",
    "\n",
    "\n",
    "contour_woman = woman.copy()\n",
    "cv2.drawContours(contour_woman,area_filtered_contours[0],contourIdx=-1,color=(0,0,255),thickness=1)\n",
    "cv2.drawContours(contour_woman,area_filtered_contours[1:],contourIdx=-1,color=(0,255,255),thickness=1)\n",
    "\n",
    "cv2.imshow('contour area filtered',np.hstack([woman,contour_woman]))\n",
    "\n",
    "cv2.waitKey(0)\n",
    "cv2.destroyAllWindows()\n",
    "cv2.waitKey(1)"
   ]
  },
  {
   "cell_type": "code",
   "execution_count": 24,
   "id": "incorporated-consultancy",
   "metadata": {},
   "outputs": [
    {
     "name": "stdout",
     "output_type": "stream",
     "text": [
      "5121.684866309166\n"
     ]
    },
    {
     "data": {
      "text/plain": [
       "-1"
      ]
     },
     "execution_count": 24,
     "metadata": {},
     "output_type": "execute_result"
    }
   ],
   "source": [
    "## calculate length and filter contours\n",
    "\n",
    "size = len(contours) // 100\n",
    "# filter the contours with low length\n",
    "length_sorted_contours = sorted(contours,key=lambda x:-cv2.arcLength(x,closed=True)) # sort descending as length\n",
    "length_filtered_contours = length_sorted_contours[:size]\n",
    "\n",
    "max_length = cv2.arcLength(length_sorted_contours[0],closed=True) # length of the contour with max length\n",
    "print(max_length)\n",
    "\n",
    "\n",
    "contour_woman = woman.copy()\n",
    "cv2.drawContours(contour_woman,length_filtered_contours[0],contourIdx=-1,color=(0,0,255),thickness=1)\n",
    "cv2.drawContours(contour_woman,length_filtered_contours[1:],contourIdx=-1,color=(0,255,255),thickness=1)\n",
    "\n",
    "cv2.imshow('contour length filtered',np.hstack([woman,contour_woman]))\n",
    "\n",
    "cv2.waitKey(0)\n",
    "cv2.destroyAllWindows()\n",
    "cv2.waitKey(1)"
   ]
  },
  {
   "cell_type": "code",
   "execution_count": 27,
   "id": "conservative-report",
   "metadata": {},
   "outputs": [
    {
     "name": "stdout",
     "output_type": "stream",
     "text": [
      "<class 'numpy.ndarray'>\n",
      "<class 'numpy.ndarray'>\n"
     ]
    },
    {
     "data": {
      "text/plain": [
       "-1"
      ]
     },
     "execution_count": 27,
     "metadata": {},
     "output_type": "execute_result"
    }
   ],
   "source": [
    "## use polygon to approximate contour\n",
    "max_area_contour = max(contours,key=lambda x:cv2.contourArea(x))\n",
    "print(type(max_area_contour))\n",
    "\n",
    "# larger epsilon, rougher approximate\n",
    "approx_poly = cv2.approxPolyDP(max_area_contour,epsilon=20,closed=True) # use Douglas-Peucker Algorithm\n",
    "print(type(approx_poly))\n",
    "\n",
    "contour_woman = woman.copy()\n",
    "cv2.drawContours(contour_woman,[max_area_contour],contourIdx=-1,color=(0,0,255),thickness=1)\n",
    "cv2.drawContours(contour_woman,[approx_poly],contourIdx=-1,color=(0,255,255),thickness=1)\n",
    "\n",
    "cv2.imshow('approx poly contour',np.hstack([woman,contour_woman]))\n",
    "\n",
    "cv2.waitKey(0)\n",
    "cv2.destroyAllWindows()\n",
    "cv2.waitKey(1)"
   ]
  },
  {
   "cell_type": "code",
   "execution_count": 30,
   "id": "narrow-validation",
   "metadata": {},
   "outputs": [
    {
     "data": {
      "text/plain": [
       "-1"
      ]
     },
     "execution_count": 30,
     "metadata": {},
     "output_type": "execute_result"
    }
   ],
   "source": [
    "## use convex hull to cover the contour(poly-approximated)\n",
    "max_area_contour = max(contours,key=lambda x:cv2.contourArea(x))\n",
    "approx_poly = cv2.approxPolyDP(max_area_contour,epsilon=20,closed=True) # use Douglas-Peucker Algorithm\n",
    "\n",
    "# convex hull for contour\n",
    "hull = cv2.convexHull(max_area_contour)\n",
    "\n",
    "contour_woman = woman.copy()\n",
    "cv2.drawContours(contour_woman,[max_area_contour],contourIdx=-1,color=(0,0,255),thickness=1)\n",
    "cv2.drawContours(contour_woman,[approx_poly],contourIdx=-1,color=(0,255,255),thickness=1)\n",
    "cv2.drawContours(contour_woman,[hull],contourIdx=-1,color=(255,0,0),thickness=1)\n",
    "\n",
    "cv2.imshow('approx poly contour',np.hstack([woman,contour_woman]))\n",
    "\n",
    "cv2.waitKey(0)\n",
    "cv2.destroyAllWindows()\n",
    "cv2.waitKey(1)"
   ]
  },
  {
   "cell_type": "code",
   "execution_count": 4,
   "id": "ideal-queen",
   "metadata": {},
   "outputs": [
    {
     "name": "stdout",
     "output_type": "stream",
     "text": [
      "((196.0, 318.0), (352.0, 392.0), 90.0)\n",
      "[[  0 142]\n",
      " [392 142]\n",
      " [392 494]\n",
      " [  0 494]]\n"
     ]
    },
    {
     "data": {
      "text/plain": [
       "-1"
      ]
     },
     "execution_count": 4,
     "metadata": {},
     "output_type": "execute_result"
    }
   ],
   "source": [
    "## min area rectangle\n",
    "\n",
    "woman = cv2.imread('../data/old woman.jpeg')\n",
    "gray_woman = cv2.cvtColor(woman,code=cv2.COLOR_BGR2GRAY) # BGR => GRAY\n",
    "thresh,binary_woman = cv2.threshold(gray_woman,thresh=180,maxval=255,type=cv2.THRESH_BINARY) # GRAY => BINARY\n",
    "\n",
    "\n",
    "contours, hierarchy = cv2.findContours(binary_woman,mode=cv2.RETR_TREE,\n",
    "                                       method=cv2.CHAIN_APPROX_SIMPLE) # using canny and others\n",
    "max_area_contour = max(contours,key=lambda x:cv2.contourArea(x))\n",
    "\n",
    "# return the rectangle's start point, (weight,height), rotate angle\n",
    "min_rect = cv2.minAreaRect(max_area_contour) # min area rectangle\n",
    "print(min_rect)\n",
    "# turn a rotated rectangle to its four corner points\n",
    "box_points = cv2.boxPoints(min_rect)\n",
    "box_points = np.round(box_points).astype(np.int) # points have to be valid pixels\n",
    "print(box_points)\n",
    "\n",
    "# draw the box points\n",
    "contour_woman = woman.copy()\n",
    "cv2.drawContours(contour_woman,[max_area_contour],contourIdx=-1,color=(0,0,255),thickness=1)\n",
    "cv2.drawContours(contour_woman,[box_points],contourIdx=-1,color=(0,255,255),thickness=1)\n",
    "\n",
    "cv2.imshow('min area rectangle',np.hstack([woman,contour_woman]))\n",
    "\n",
    "cv2.waitKey(0)\n",
    "cv2.destroyAllWindows()\n",
    "cv2.waitKey(1)"
   ]
  },
  {
   "cell_type": "code",
   "execution_count": 9,
   "id": "promising-mechanics",
   "metadata": {},
   "outputs": [
    {
     "name": "stdout",
     "output_type": "stream",
     "text": [
      "(0, 142, 393, 353)\n"
     ]
    },
    {
     "data": {
      "text/plain": [
       "-1"
      ]
     },
     "execution_count": 9,
     "metadata": {},
     "output_type": "execute_result"
    }
   ],
   "source": [
    "## max area rectangle\n",
    "\n",
    "# return the rectangle's start point, (weight,height), no rotation(cuz no need)\n",
    "max_rect = cv2.boundingRect(max_area_contour)\n",
    "print(max_rect)\n",
    "x,y,w,h = max_rect\n",
    "\n",
    "woman = cv2.imread('../data/old woman.jpeg')\n",
    "contour_woman = woman.copy()\n",
    "cv2.rectangle(contour_woman,pt1=(x,y),pt2=(x+w,y+h),color=(255,0,0),thickness=1)\n",
    "cv2.drawContours(contour_woman,[max_area_contour],contourIdx=-1,color=(0,0,255),thickness=1)\n",
    "\n",
    "cv2.imshow('max area rectangle',np.hstack([woman,contour_woman]))\n",
    "\n",
    "cv2.waitKey(0)\n",
    "cv2.destroyAllWindows()\n",
    "cv2.waitKey(1)"
   ]
  },
  {
   "cell_type": "markdown",
   "id": "level-debut",
   "metadata": {},
   "source": [
    "### 12. 金字塔操作"
   ]
  },
  {
   "cell_type": "code",
   "execution_count": 12,
   "id": "expanded-concord",
   "metadata": {},
   "outputs": [
    {
     "name": "stdout",
     "output_type": "stream",
     "text": [
      "(840, 1280, 3)\n",
      "(420, 640, 3)\n"
     ]
    },
    {
     "data": {
      "text/plain": [
       "-1"
      ]
     },
     "execution_count": 12,
     "metadata": {},
     "output_type": "execute_result"
    }
   ],
   "source": [
    "## Gaussian pyramid sub-sampling\n",
    "# step1: use Gaussian kernel to convolution:\n",
    "#     | 1  4  6  4 1 |\n",
    "#     | 4 16 24 16 4 |\n",
    "# K = | 6 24 36 24 6 | / 16\n",
    "#     | 4 16 24 16 4 |\n",
    "#     | 1  4  6  4 1 |\n",
    "# step2: get rid of the even rows and cols\n",
    "dog = cv2.imread('../data/skinny dog.jpeg')\n",
    "dog = dog[:dog.shape[0]//2*2][:dog.shape[1]//2*2]\n",
    "print(dog.shape)\n",
    "\n",
    "sub_dog = cv2.pyrDown(dog) # to 1/4 size\n",
    "print(sub_dog.shape)\n",
    "\n",
    "cv2.imshow('Gaussian pyramid',np.hstack([dog,np.vstack([sub_dog,sub_dog])]))\n",
    "\n",
    "cv2.waitKey(0)\n",
    "cv2.destroyAllWindows()\n",
    "cv2.waitKey(1)"
   ]
  },
  {
   "cell_type": "code",
   "execution_count": 13,
   "id": "appointed-transport",
   "metadata": {},
   "outputs": [
    {
     "name": "stdout",
     "output_type": "stream",
     "text": [
      "(840, 1280, 3)\n",
      "(420, 640, 3)\n",
      "(840, 1280, 3)\n"
     ]
    },
    {
     "data": {
      "text/plain": [
       "-1"
      ]
     },
     "execution_count": 13,
     "metadata": {},
     "output_type": "execute_result"
    }
   ],
   "source": [
    "## Gaussian pyramid up-sampling\n",
    "# step1: padding the missing even rows and cols\n",
    "# step2: use the 4 times Gaussian kernel to convolution\n",
    "#     | 1  4  6  4 1 |\n",
    "#     | 4 16 24 16 4 |\n",
    "# K = | 6 24 36 24 6 | / 16 * 4\n",
    "#     | 4 16 24 16 4 |\n",
    "#     | 1  4  6  4 1 |\n",
    "dog = cv2.imread('../data/skinny dog.jpeg')\n",
    "dog = dog[:dog.shape[0]//2*2][:dog.shape[1]//2*2]\n",
    "print(dog.shape)\n",
    "\n",
    "sub_dog = cv2.pyrDown(dog) # to 1/4 size\n",
    "print(sub_dog.shape)\n",
    "\n",
    "up_dog = cv2.pyrUp(sub_dog) # to 4 times size\n",
    "print(up_dog.shape)\n",
    "\n",
    "cv2.imshow('Gaussian pyramid',np.hstack([dog,np.vstack([sub_dog,sub_dog]),up_dog]))\n",
    "\n",
    "cv2.waitKey(0)\n",
    "cv2.destroyAllWindows()\n",
    "cv2.waitKey(1)"
   ]
  },
  {
   "cell_type": "code",
   "execution_count": 14,
   "id": "vocational-fishing",
   "metadata": {},
   "outputs": [
    {
     "data": {
      "text/plain": [
       "-1"
      ]
     },
     "execution_count": 14,
     "metadata": {},
     "output_type": "execute_result"
    }
   ],
   "source": [
    "## Laplacian pyramid\n",
    "# L = G - pyrUp[pyrDown(G)], L represents the residual of Gaussian pyramid\n",
    "dog = cv2.imread('../data/skinny dog.jpeg')\n",
    "dog = dog[:dog.shape[0]//2*2][:dog.shape[1]//2*2]\n",
    "\n",
    "sub_dog = cv2.pyrDown(dog) # to 1/4 size\n",
    "\n",
    "up_dog = cv2.pyrUp(sub_dog) # to 4 times size\n",
    "\n",
    "lap_dog = dog - up_dog # Laplacian pyramid layer 0\n",
    "\n",
    "cv2.imshow('Laplacian pyramid',np.hstack([dog,lap_dog]))\n",
    "\n",
    "cv2.waitKey(0)\n",
    "cv2.destroyAllWindows()\n",
    "cv2.waitKey(1)"
   ]
  },
  {
   "cell_type": "markdown",
   "id": "handed-insulin",
   "metadata": {},
   "source": [
    "### 13. 直方图操作"
   ]
  },
  {
   "cell_type": "code",
   "execution_count": 30,
   "id": "amateur-pantyhose",
   "metadata": {},
   "outputs": [
    {
     "name": "stdout",
     "output_type": "stream",
     "text": [
      "(256, 1)\n",
      "[7260.]\n"
     ]
    },
    {
     "data": {
      "image/png": "[encoded data removed]",
      "text/plain": [
       "<Figure size 432x288 with 1 Axes>"
      ]
     },
     "metadata": {
      "needs_background": "light"
     },
     "output_type": "display_data"
    }
   ],
   "source": [
    "## calculate histogram\n",
    "dog = cv2.imread('../data/skinny dog.jpeg')\n",
    "gray_dog = cv2.cvtColor(dog,code=cv2.COLOR_BGR2GRAY)\n",
    "\n",
    "# RGB each channel\n",
    "# hist_b = cv2.calcHist([dog],channels=[0],mask=None,histSize=[256],ranges=[0,255]) # blue is too high\n",
    "hist_g = cv2.calcHist([dog],channels=[1],mask=None,histSize=[256],ranges=[0,255])\n",
    "hist_r = cv2.calcHist([dog],channels=[2],mask=None,histSize=[256],ranges=[0,255])\n",
    "\n",
    "hist_gray = cv2.calcHist([gray_dog],channels=[0],mask=None,histSize=[256],ranges=[0,255])\n",
    "print(hist_gray.shape)\n",
    "print(max(hist_gray))\n",
    "\n",
    "## show hist\n",
    "# plt.plot(hist_b,color='blue',label='blue') # blue is too high\n",
    "plt.plot(hist_g,color='green',label='green')\n",
    "plt.plot(hist_r,color='red',label='red')\n",
    "plt.plot(hist_gray,color='orange',label='gray')\n",
    "plt.hist(gray_dog.ravel(),bins=256,range=[0,255])\n",
    "plt.legend()\n",
    "plt.show()"
   ]
  },
  {
   "cell_type": "code",
   "execution_count": 31,
   "id": "dietary-japan",
   "metadata": {},
   "outputs": [
    {
     "data": {
      "image/png": "[encoded data removed]",
      "text/plain": [
       "<Figure size 432x288 with 1 Axes>"
      ]
     },
     "metadata": {
      "needs_background": "light"
     },
     "output_type": "display_data"
    },
    {
     "data": {
      "text/plain": [
       "-1"
      ]
     },
     "execution_count": 31,
     "metadata": {},
     "output_type": "execute_result"
    }
   ],
   "source": [
    "## histogram balance\n",
    "# use CDF of the gray levels as the new gray levels, and calculate histogram on them\n",
    "# so, the original high-prob gray level will be less-prob, cuz when it's added by the former cumulated levels,\n",
    "# the prob will increase a lot, thus the similar prob around it will be less, vice versa\n",
    "dog = cv2.imread('../data/skinny dog.jpeg')\n",
    "dog = cv2.cvtColor(dog,code=cv2.COLOR_BGR2GRAY)\n",
    "eq_dog = cv2.equalizeHist(dog) # equalize the dog's hist, reconstruct the image and return\n",
    "\n",
    "orig_hist = cv2.calcHist([dog],channels=[0],mask=None,histSize=[256],ranges=[0,255])\n",
    "eq_hist = cv2.calcHist([eq_dog],channels=[0],mask=None,histSize=[256],ranges=[0,255])\n",
    "\n",
    "# show hist\n",
    "plt.plot(orig_hist,color='r',label='original')\n",
    "plt.plot(eq_hist,color='orange',label='equalized')\n",
    "plt.legend()\n",
    "plt.show()\n",
    "\n",
    "# show image\n",
    "cv2.imshow('hist',np.hstack([dog,eq_dog]))\n",
    "\n",
    "cv2.waitKey(0)\n",
    "cv2.destroyAllWindows()\n",
    "cv2.waitKey(1)"
   ]
  },
  {
   "cell_type": "markdown",
   "id": "pointed-broadcast",
   "metadata": {},
   "source": [
    "### 14. 角点检测"
   ]
  },
  {
   "cell_type": "code",
   "execution_count": 4,
   "id": "elect-electronics",
   "metadata": {},
   "outputs": [
    {
     "name": "stdout",
     "output_type": "stream",
     "text": [
      "(841, 1280, 3)\n",
      "(841, 1280)\n"
     ]
    },
    {
     "data": {
      "text/plain": [
       "-1"
      ]
     },
     "execution_count": 4,
     "metadata": {},
     "output_type": "execute_result"
    }
   ],
   "source": [
    "## Harris\n",
    "# c(x,y;δx,δy) = ∑ w(u,v) * [I(u,v) - I(u+δx,v+δy)]^2\n",
    "#              ≈ ∑ w(u,v) * [I(u,v) - {I(u,v)+Ix(u,v)*δx+Iy(u,v)*δy}]^2\n",
    "#              = ∑ w(u,v) * [Ix(u,v)*δx+Iy(u,v)*δy]^2       \n",
    "#              = ∑ w(u,v) * [δx,δy]^T * M(u,v) * [δx,δy]\n",
    "#              = [δx,δy]^T * H(x,y) * [δx,δy]\n",
    "#\n",
    "# H(u,v) = |Ix(u,v)^2 Ix(u,v)*Iy(u,v)| = |Ix^2 IxIy|\n",
    "#        = |Ix(u,v)*Iy(u,v) Iy(u,v)^2|   |IxIy Iy^2|\n",
    "# H(x,y) = ∑ w(u,v) * H(u,v) = |A C| , is symmetric real matrix, get eigen value => λ1,λ2\n",
    "#                            = |C B|\n",
    "# flat range: λ1,λ2 both small\n",
    "# edge range: λ1 >> λ2 or λ1 << λ2\n",
    "# corner range: λ1,λ2 both large\n",
    "# => corner response: Rk = det(H) - k * tr^2(H), det(H)=λ1λ2, tr(H)=λ1+λ2\n",
    "# R is larger, the range is more likely to be corner\n",
    "\n",
    "dog = cv2.imread(\"../data/skinny dog.jpeg\")\n",
    "gray_dog = cv2.cvtColor(dog,code=cv2.COLOR_BGR2GRAY) # gray for Harris\n",
    "print(dog.shape)\n",
    "\n",
    "# calculate the corner response for each pixel in image\n",
    "# block: the scan window, ksize: the sobel kernel for Ix,Iy\n",
    "R = cv2.cornerHarris(gray_dog,blockSize=2,ksize=3,k=0.04)\n",
    "print(R.shape)\n",
    "\n",
    "# set the threshold for corner points\n",
    "dog[R>0.01*R.max()] = [0,0,255]\n",
    "\n",
    "cv2.imshow('Harris',dog)\n",
    "\n",
    "cv2.waitKey(0)\n",
    "cv2.destroyAllWindows()\n",
    "cv2.waitKey(1)"
   ]
  },
  {
   "cell_type": "code",
   "execution_count": 9,
   "id": "shaped-blood",
   "metadata": {},
   "outputs": [
    {
     "name": "stdout",
     "output_type": "stream",
     "text": [
      "(841, 1280, 3)\n",
      "(181, 1, 2)\n"
     ]
    },
    {
     "data": {
      "text/plain": [
       "-1"
      ]
     },
     "execution_count": 9,
     "metadata": {},
     "output_type": "execute_result"
    }
   ],
   "source": [
    "## Shi-Tomasi\n",
    "# corner response: R = min(λ1,λ2)\n",
    "\n",
    "dog = cv2.imread(\"../data/skinny dog.jpeg\")\n",
    "gray_dog = cv2.cvtColor(dog,code=cv2.COLOR_BGR2GRAY) # gray for corner detection\n",
    "print(dog.shape)\n",
    "\n",
    "# calculate the corner response for each pixel in image\n",
    "# maxCorner = 0 means no limit for corner number\n",
    "# ignore the detected corner points within minDistance\n",
    "# return the corner points\n",
    "corners = cv2.goodFeaturesToTrack(gray_dog,maxCorners=0,qualityLevel=0.05,minDistance=20)\n",
    "print(corners.shape)\n",
    "\n",
    "for corner in corners:\n",
    "    x,y = corner.ravel().astype(np.int)\n",
    "    cv2.circle(dog,center=(x,y),radius=3,color=(0,0,255),thickness=-1)\n",
    "\n",
    "\n",
    "cv2.imshow('Shi-Tomasi',dog)\n",
    "\n",
    "cv2.waitKey(0)\n",
    "cv2.destroyAllWindows()\n",
    "cv2.waitKey(1)"
   ]
  },
  {
   "cell_type": "code",
   "execution_count": 8,
   "id": "constant-allergy",
   "metadata": {},
   "outputs": [
    {
     "name": "stdout",
     "output_type": "stream",
     "text": [
      "<class 'cv2.KeyPoint'>\n",
      "3215\n",
      "<class 'numpy.ndarray'>\n",
      "(3215, 128)\n"
     ]
    },
    {
     "data": {
      "text/plain": [
       "-1"
      ]
     },
     "execution_count": 8,
     "metadata": {},
     "output_type": "execute_result"
    }
   ],
   "source": [
    "## SIFT (Scale-Invariant Feature Transform)\n",
    "# step1: generate DoG pyramid(5 pyramid octaves, 5 conved image and 4 differential image in each octave)\n",
    "# step2: find the local maximum point(compared with 26 points around it, \n",
    "#                                     8 points in its layer, each 9 points in upper/lower layer)\n",
    "# step3: approximate the near curve around the found local maximum points, and get the preciser corner points\n",
    "# step4: use Harris H(x,y) to get rid of the edge points, whose main curvature: tr^2[H]/det[H] > 10\n",
    "# step5: find the main gradient direction around the found corner points,\n",
    "#        (8x8 grid, get the 8 gradient-direction histogram of the 64 points, and pick the highest one)\n",
    "#        and rotate it as the x-axis\n",
    "# step6: when rotated, use the around 16x16 grid as the descriptor neighbors of certain corner point, \n",
    "#        get 8 gradient-direction histogram in each 4x4 unit grid and describe it as an 8-dim vector\n",
    "#        so since there're (16x16)/(4x4)=4x4=16 unit grids, the whole descriptor for this corner point\n",
    "#        is a 8x16=128-dim vector\n",
    "\n",
    "\n",
    "dog = cv2.imread(\"../data/skinny dog.jpeg\")\n",
    "gray_dog = cv2.cvtColor(dog,code=cv2.COLOR_BGR2GRAY) # gray for corner detection\n",
    "\n",
    "# sift object, default algorithm hyper params, xfeatures2d in opencv-contrib-python\n",
    "sift = cv2.xfeatures2d.SIFT_create() \n",
    "# detect the gray image and return keypoints tuple, each of which is a cv2 KeyPoint object\n",
    "keypoints = sift.detect(gray_dog)\n",
    "print(type(keypoints[0]))\n",
    "print(len(keypoints))\n",
    "# compute the descriptor for each key point\n",
    "keypoints,descriptors = sift.compute(gray_dog,keypoints)\n",
    "print(type(descriptors))\n",
    "print(descriptors.shape)\n",
    "print(descriptors[0])\n",
    "# or detect and compute at one time\n",
    "keypoints,descriptors = sift.detectAndCompute(gray_dog,mask=None)\n",
    "\n",
    "# draw keypoints\n",
    "cv2.drawKeypoints(gray_dog,keypoints,dog)\n",
    "\n",
    "cv2.imshow('SIFT',dog)\n",
    "\n",
    "cv2.waitKey(0)\n",
    "cv2.destroyAllWindows()\n",
    "cv2.waitKey(1)"
   ]
  },
  {
   "cell_type": "code",
   "execution_count": null,
   "id": "future-custom",
   "metadata": {},
   "outputs": [],
   "source": []
  }
 ],
 "metadata": {
  "kernelspec": {
   "display_name": "Python 3",
   "language": "python",
   "name": "python3"
  },
  "language_info": {
   "codemirror_mode": {
    "name": "ipython",
    "version": 3
   },
   "file_extension": ".py",
   "mimetype": "text/x-python",
   "name": "python",
   "nbconvert_exporter": "python",
   "pygments_lexer": "ipython3",
   "version": "3.8.3"
  }
 },
 "nbformat": 4,
 "nbformat_minor": 5
}
