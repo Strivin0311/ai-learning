{
 "cells": [
  {
   "cell_type": "markdown",
   "id": "surprising-amendment",
   "metadata": {},
   "source": [
    "## 一、熵"
   ]
  },
  {
   "cell_type": "markdown",
   "id": "bored-vegetation",
   "metadata": {},
   "source": [
    "### 1. $Information$ $Entropy$"
   ]
  },
  {
   "cell_type": "markdown",
   "id": "fossil-hostel",
   "metadata": {},
   "source": [
    "$\\Rightarrow Definition: 设随机变量X各个取值x_1,x_2,..,x_n的概率依次为p_1,p_2,..,p_n，则其信息熵为:H(P) = -\\sum\\limits_{i=1}^n p_i\\log p_i$"
   ]
  },
  {
   "cell_type": "markdown",
   "id": "liked-prague",
   "metadata": {},
   "source": [
    "$\\Rightarrow Explanation: 随机变量X的信息熵H(P)衡量了其各个取值x_i的不确定度-\\log p_i的期望，即X所包含的信息量的平均值$"
   ]
  },
  {
   "cell_type": "markdown",
   "id": "formal-surface",
   "metadata": {},
   "source": [
    "$\\Rightarrow properties:$"
   ]
  },
  {
   "cell_type": "markdown",
   "id": "olive-bandwidth",
   "metadata": {},
   "source": [
    "$$\\begin{equation}\\begin{aligned}\n",
    "& H(P) \\ge 0\\\\\n",
    "& p_i \\in \\{0,1\\} \\rightarrow H(p_i) = 0\\\\\n",
    "& p_* = 0.5 = \\mathrm{arg}\\max\\limits_{i} \\{H(p_i)\\}\n",
    "\\end{aligned}\\end{equation}\n",
    "$$"
   ]
  },
  {
   "cell_type": "code",
   "execution_count": 26,
   "id": "invalid-springer",
   "metadata": {},
   "outputs": [
    {
     "name": "stdout",
     "output_type": "stream",
     "text": [
      "[ 0.          0.52108968  0.5         0.36020122 -0.        ]\n",
      "2.584962500721156\n"
     ]
    }
   ],
   "source": [
    "import numpy as np\n",
    "def infoEntropy(p):\n",
    "    H = np.zeros_like(p)\n",
    "    for i,pi in enumerate(p):\n",
    "        if pi == 0:\n",
    "            H[i] = 0.0\n",
    "        else:\n",
    "            H[i] = -pi * np.log2(pi)\n",
    "    return H\n",
    "\n",
    "p1 = np.array([0.0,0.3,0.5,0.7,1.0]) # prob for example\n",
    "p2 = np.array([1,1,1,1,1,1]) / 6. # prob for dice\n",
    "H1 = infoEntropy(p1)\n",
    "H2 = infoEntropy(p2)\n",
    "print(H1)\n",
    "print(np.sum(H2))"
   ]
  },
  {
   "cell_type": "markdown",
   "id": "similar-familiar",
   "metadata": {},
   "source": [
    "### 2. $Cross$ $Entropy$"
   ]
  },
  {
   "cell_type": "markdown",
   "id": "sized-volunteer",
   "metadata": {},
   "source": [
    "$\\Rightarrow Definition: 设定义域相同的两个随机变量X,Y的概率分布分别为P,Q，则其交叉熵为:H(P,Q)=-\\sum\\limits_{i=1}^n p_i\\log q_i$"
   ]
  },
  {
   "cell_type": "markdown",
   "id": "mental-responsibility",
   "metadata": {},
   "source": [
    "$\\Rightarrow Explanation: 交叉熵衡量了分布P,Q之间的绝对距离，一般用于度量模型分布Q与数据分布P之间的差距，常用作损失函数$"
   ]
  },
  {
   "cell_type": "markdown",
   "id": "strong-aspect",
   "metadata": {},
   "source": [
    "$\\Rightarrow properties:$"
   ]
  },
  {
   "cell_type": "markdown",
   "id": "colored-burns",
   "metadata": {},
   "source": [
    "$$\\begin{equation}\\begin{aligned}\n",
    "& H(P,Q) \\ge H(P)\\\\\n",
    "& H(P,Q) = H(P) \\iff P = Q\n",
    "\\end{aligned}\\end{equation}\n",
    "$$"
   ]
  },
  {
   "cell_type": "code",
   "execution_count": 29,
   "id": "hollywood-trace",
   "metadata": {},
   "outputs": [
    {
     "name": "stdout",
     "output_type": "stream",
     "text": [
      "H(p):    [0.33219281 0.52108968 0.52877124 0.46438562] => 1.8464393446710154\n",
      "Hc(p,q): [0.27369656 0.6        0.46080124 0.54739312] => 1.881890915627882\n"
     ]
    }
   ],
   "source": [
    "import numpy as np\n",
    "def crossEntropy(p,q):\n",
    "    Hc = np.zeros_like(p)\n",
    "    i = 0\n",
    "    for pi,qi in zip(p,q):\n",
    "        if pi == 0 and qi == 0:\n",
    "            Hc[i] = 0.0\n",
    "        elif qi == 0:\n",
    "            Hc[i] = -np.inf\n",
    "        else:\n",
    "            Hc[i] = -pi * np.log2(qi)\n",
    "        i += 1\n",
    "    return Hc\n",
    "\n",
    "p = np.array([0.1,0.3,0.4,0.2]) # p for real distribution\n",
    "q = np.array([0.15,0.25,0.45,0.15]) # q for predicted distribution\n",
    "Hp = infoEntropy(p)\n",
    "Hc = crossEntropy(p,q)\n",
    "print(\"H(p):    {}\".format(Hp),\"=>\",np.sum(Hp)) # Hc(p,q) >= H(p)\n",
    "print(\"Hc(p,q): {}\".format(Hc),\"=>\",np.sum(Hc)) # Hc(p,q) = H(p) <=> p = q"
   ]
  },
  {
   "cell_type": "markdown",
   "id": "residential-reception",
   "metadata": {},
   "source": [
    "### 3. $Relative $ $Entropy$ / $\\mathrm{KL}$ $Divergence$"
   ]
  },
  {
   "cell_type": "markdown",
   "id": "dangerous-japanese",
   "metadata": {},
   "source": [
    "$\\Rightarrow Definition: 设定义域相同的两个随机变量X,Y的概率分布分别为P,Q，则其相对熵/\\mathrm{KL}散度为:H(P||Q)=-\\sum\\limits_{i=1}^n p_i\\log \\cfrac{q_i}{p_i}$"
   ]
  },
  {
   "cell_type": "markdown",
   "id": "continental-brave",
   "metadata": {},
   "source": [
    "$\\Rightarrow Explanation: 相对熵/\\mathrm{KL}散度衡量了分布P,Q之间的相对距离，当P固定时，效果同交叉熵，常用作损失函数$"
   ]
  },
  {
   "cell_type": "markdown",
   "id": "enclosed-ottawa",
   "metadata": {},
   "source": [
    "$\\Rightarrow properties:$"
   ]
  },
  {
   "cell_type": "markdown",
   "id": "killing-chair",
   "metadata": {},
   "source": [
    "$$\\begin{equation}\\begin{aligned}\n",
    "& H(P||Q) = -\\sum\\limits_{i=1}^n p_i\\log \\cfrac{q_i}{p_i} = -\\sum\\limits_{i=1}^n (p_i\\log q_i - p_i\\log{p_i}) = H(P,Q) - H(P)\\\\\n",
    "& H(P||Q) \\ge 0\\\\\n",
    "& H(P||Q) = 0 \\iff P = Q\\\\\n",
    "\\end{aligned}\\end{equation}\n",
    "$$"
   ]
  },
  {
   "cell_type": "code",
   "execution_count": 32,
   "id": "committed-quantum",
   "metadata": {},
   "outputs": [
    {
     "name": "stdout",
     "output_type": "stream",
     "text": [
      "H(p):       [0.33219281 0.52108968 0.52877124 0.46438562] => 1.8464393446710154\n",
      "Hc(p,q):    [0.27369656 0.6        0.46080124 0.54739312] => 1.881890915627882\n",
      "Hr(p,q):    [-0.05849625  0.07891032 -0.06797     0.0830075 ] => 0.03545157095686652\n",
      "KL(p,q):    [-0.05849625  0.07891032 -0.06797     0.0830075 ] => 0.0354515709568664\n"
     ]
    }
   ],
   "source": [
    "import numpy as np\n",
    "def KLDivergence(p,q):\n",
    "    Hr = np.zeros_like(p)\n",
    "    i = 0\n",
    "    for pi,qi in zip(p,q):\n",
    "        if pi == 0 and qi == 0:\n",
    "            Hr[i] = 0\n",
    "        elif qi == 0:\n",
    "            Hr[i] = -np.inf\n",
    "        else:\n",
    "            Hr[i] = -pi*np.log2(qi/pi)\n",
    "        i += 1\n",
    "    return Hr\n",
    "def relativeEntropy(p,q):\n",
    "    Hr = crossEntropy(p,q) - infoEntropy(p)\n",
    "    return Hr\n",
    "\n",
    "p = np.array([0.1,0.3,0.4,0.2]) # p for real distribution\n",
    "q = np.array([0.15,0.25,0.45,0.15]) # q for predicted distribution\n",
    "Hp = infoEntropy(p)\n",
    "Hc = crossEntropy(p,q)\n",
    "Hr = relativeEntropy(p,q)\n",
    "KL = KLDivergence(p,q)\n",
    "print(\"H(p):       {}\".format(Hp),\"=>\",np.sum(Hp)) # Hc(p,q) >= H(p)\n",
    "print(\"Hc(p,q):    {}\".format(Hc),\"=>\",np.sum(Hc)) # Hc(p,q) = H(p) <=> p = q\n",
    "print(\"Hr(p,q):    {}\".format(Hr),\"=>\",np.sum(Hr)) # Hr(p,q) = Hc(p,q) - H(p) >= 0\n",
    "print(\"KL(p,q):    {}\".format(KL),\"=>\",np.sum(KL)) # KL(p,q) = Hr(p,q), KL(p,q) = 0 <=> p = q"
   ]
  },
  {
   "cell_type": "markdown",
   "id": "israeli-batch",
   "metadata": {},
   "source": [
    "## 二、EM算法"
   ]
  },
  {
   "cell_type": "markdown",
   "id": "veterinary-structure",
   "metadata": {},
   "source": [
    "### 1. $Maximum$ $Likelihood$ $Estimation$"
   ]
  },
  {
   "cell_type": "markdown",
   "id": "numerical-biodiversity",
   "metadata": {},
   "source": [
    "$\\Rightarrow Explanation:$"
   ]
  },
  {
   "cell_type": "markdown",
   "id": "detected-discovery",
   "metadata": {},
   "source": [
    "$设待估计参数的概率分布为P(X,\\theta),其中\\theta为未知参数，X为观测变量，观测样本为\\{x_1,x_2,..,x_n\\}$"
   ]
  },
  {
   "cell_type": "markdown",
   "id": "center-queue",
   "metadata": {},
   "source": [
    "$根据贝叶斯公式：P(\\theta | X) = \\cfrac{P(X | \\theta)P(\\theta)}{P(X)}，其中称P(\\theta | X)为后验概率,P(X | \\theta)为似然概率，P(\\theta)为先验概率,P(X)通常认为是常数$"
   ]
  },
  {
   "cell_type": "markdown",
   "id": "artistic-joseph",
   "metadata": {},
   "source": [
    "$极大似然估计法的思想是选择\\theta使得似然概率极大化：\\hat{\\theta} = \\mathrm{arg}\\max\\limits_{\\theta} P(X|\\theta) = \\mathrm{arg}\\max\\limits_{\\theta} \\prod\\limits_{i=1}^n P(x_i|\\theta) = \\mathrm{arg}\\max\\limits_{\\theta} \\sum\\limits_{i=1}^n \\ln P(x_i|\\theta)$"
   ]
  },
  {
   "cell_type": "markdown",
   "id": "internal-price",
   "metadata": {},
   "source": [
    "$具体地，设L(\\theta;x_1,x_2,..,x_n) = \\prod\\limits_{i=1}^n P(x_i|\\theta),则：\\ln L = \\sum\\limits_{i=1}^n \\ln P(x_i|\\theta)，若\\ln L凹可微，令\\cfrac{\\partial \\ln L}{\\partial\\theta}|_{\\hat\\theta}  =0，即得\\hat\\theta$"
   ]
  },
  {
   "cell_type": "markdown",
   "id": "hourly-orientation",
   "metadata": {},
   "source": [
    "### 2. $Expectation$ $Maximization$"
   ]
  },
  {
   "cell_type": "markdown",
   "id": "elegant-rates",
   "metadata": {},
   "source": [
    "$\\Rightarrow Explanation:$"
   ]
  },
  {
   "cell_type": "markdown",
   "id": "aerial-arrival",
   "metadata": {},
   "source": [
    "$设待估计参数的概率分布为P(X,Z,\\theta),其中\\theta为未知参数，X为观测变量，Z为隐变量，观测样本为\\{x_1,x_2,..,x_n\\}$"
   ]
  },
  {
   "cell_type": "markdown",
   "id": "following-storage",
   "metadata": {},
   "source": [
    "$由条件链式法则：P(X,Z|\\theta) = P(X|\\theta)P(Z|X,\\theta)，其中称P(X,Z|\\theta)为联合似然,P(X|\\theta)为观测变量似然，P(Z|X,\\theta)为隐变量似然$"
   ]
  },
  {
   "cell_type": "markdown",
   "id": "egyptian-parking",
   "metadata": {},
   "source": [
    "$由极大似然估计法的思想，\\hat{\\theta} = \\mathrm{arg}\\max\\limits_{\\theta} P(X|\\theta)，但是由于隐变量的存在，P(X|\\theta)无法直接解析求解$"
   ]
  },
  {
   "cell_type": "markdown",
   "id": "latter-bench",
   "metadata": {},
   "source": [
    "$因此，若能找到一个迭代过程：\\theta^{(1)},\\theta^{(2)},..\\theta^{(t)}，使得P(X|\\theta^{(t)})不断增大，就能最终收敛于\\max\\limits_{\\theta} P(X|\\theta)$"
   ]
  },
  {
   "cell_type": "markdown",
   "id": "ignored-manitoba",
   "metadata": {},
   "source": [
    "$为了达到上述目的，\\mathrm{EM}算法给出了一种极大化联合对数似然\\ln P(X,Z|\\theta)关于第t轮隐变量似然P(Z|X,\\theta^{(t)})的期望的迭代公式：$"
   ]
  },
  {
   "cell_type": "markdown",
   "id": "quality-cycling",
   "metadata": {},
   "source": [
    "$$\\begin{equation}\\begin{aligned}\n",
    "\\theta^{(t+1)} &= \\mathrm{arg}\\max\\limits_{\\theta} E_{P(Z|X,\\theta^{(t)})}{[\\ln P(X,Z|\\theta)]} \\\\ &= \\mathrm{arg}\\max\\limits_{\\theta} \\int_{Z}\\ln P(X,Z|\\theta)P(Z|X,\\theta^{(t)})\\mathrm{d}Z \\end{aligned}\\end{equation}\n",
    "$$"
   ]
  },
  {
   "cell_type": "markdown",
   "id": "abroad-jimmy",
   "metadata": {},
   "source": [
    "$具体来说，一次迭代可以分为两步：\\begin{cases}\n",
    "E步：计算期望函数：Q(\\theta;\\theta^{(t)}) = \\int_{Z}\\ln P(X,Z|\\theta)P(Z|X,\\theta^{(t)})\\mathrm{d}Z\\\\\n",
    "M步：求期望函数极大值点：\\theta^{(t+1)} = \\theta^* = \\mathrm{arg}\\max\\limits_{\\theta}Q(\\theta;\\theta^{(t)})\n",
    "\\end{cases}\n",
    "$"
   ]
  },
  {
   "cell_type": "markdown",
   "id": "pacific-monitor",
   "metadata": {},
   "source": [
    "$\\Rightarrow 以下证明EM迭代公式的有效性，即P(X|\\theta^{(t+1)})\\ge P(X|\\theta^{(t)}):$"
   ]
  },
  {
   "cell_type": "markdown",
   "id": "starting-decimal",
   "metadata": {},
   "source": [
    "$由P(X,Z|\\theta) = P(X|\\theta)P(Z|X,\\theta) \\Rightarrow \\ln P(X,Z|\\theta) = \\ln P(X|\\theta) + \\ln P(Z|X,\\theta) \\Rightarrow \\ln P(X|\\theta) = \\ln P(X,Z|\\theta) - \\ln P(Z|X,\\theta)$"
   ]
  },
  {
   "cell_type": "markdown",
   "id": "motivated-mexican",
   "metadata": {},
   "source": [
    "$对等式左边求关于P(Z|X,\\theta^{(t)})的期望：E[\\ln P(X|\\theta)] = \\int_{Z}\\ln P(X|\\theta) P(Z|X,\\theta^{(t)})\\mathrm{d}Z = \\ln P(X|\\theta)\\cdot\\int_{Z} P(Z|X,\\theta^{(t)})\\mathrm{d}Z = \\ln P(X|\\theta)$"
   ]
  },
  {
   "cell_type": "markdown",
   "id": "alternative-cannon",
   "metadata": {},
   "source": [
    "$再对等式右边求关于P(Z|X,\\theta^{(t)})的期望：E[\\ln P(X,Z|\\theta) - \\ln P(Z|X,\\theta)] = \\int_{Z}\\ln P(X,Z|\\theta) P(Z|X,\\theta^{(t)})\\mathrm{d}Z - \\int_{Z}\\ln P(Z|X,\\theta) P(Z|X,\\theta^{(t)})\\mathrm{d}Z$"
   ]
  },
  {
   "cell_type": "markdown",
   "id": "comprehensive-great",
   "metadata": {},
   "source": [
    "$因此：\\ln P(X|\\theta) = \\int_{Z}\\ln P(X,Z|\\theta) P(Z|X,\\theta^{(t)})\\mathrm{d}Z - \\int_{Z}\\ln P(Z|X,\\theta) P(Z|X,\\theta^{(t)})\\mathrm{d}Z = E[\\ln P(X,Z|\\theta)] - E[\\ln P(Z|X,\\theta)]$"
   ]
  },
  {
   "cell_type": "markdown",
   "id": "explicit-variation",
   "metadata": {},
   "source": [
    "$要证明P(X|\\theta^{(t+1)})\\ge P(X|\\theta^{(t)})，即证明\\ln P(X|\\theta^{(t+1)})\\ge \\ln P(X|\\theta^{(t)})，即：$"
   ]
  },
  {
   "cell_type": "markdown",
   "id": "artistic-dynamics",
   "metadata": {},
   "source": [
    "$$\\begin{equation}\\begin{aligned}\n",
    "E[\\ln P(X,Z|\\theta^{(t+1)})] - E[\\ln P(Z|X,\\theta^{(t+1)})] &\\ge E[\\ln P(X,Z|\\theta^{(t)})] - E[\\ln P(Z|X,\\theta^{(t)})]\\\\\n",
    "\\Rightarrow E[\\ln P(X,Z|\\theta^{(t+1)})] - E[\\ln P(X,Z|\\theta^{(t)})] &\\ge  E[\\ln P(Z|X,\\theta^{(t+1)})]   - E[\\ln P(Z|X,\\theta^{(t)})]\\\\\n",
    "\\Leftarrow E[\\ln P(X,Z|\\theta^{(t+1)})] - E[\\ln P(X,Z|\\theta^{(t)})] &\\ge 0 \\ge E[\\ln P(Z|X,\\theta^{(t+1)})]-E[\\ln P(Z|X,\\theta^{(t)})]\\\\\n",
    "\\end{aligned}\\end{equation}\n",
    "$$"
   ]
  },
  {
   "cell_type": "markdown",
   "id": "distributed-wednesday",
   "metadata": {},
   "source": [
    "上式可分解为两个独立的不等式：$\\begin{cases}\n",
    " E[\\ln P(X,Z|\\theta^{(t+1)})] \\ge E[\\ln P(X,Z|\\theta^{(t)})] \\cdot\\cdot\\cdot\\cdot\\cdot\\cdot\\; (1) \\\\\n",
    " E[\\ln P(Z|X,\\theta^{(t+1)})] \\le E[\\ln P(Z|X,\\theta^{(t)})] \\cdot\\cdot\\cdot\\cdot\\cdot\\cdot\\; (2)\n",
    "\\end{cases}$"
   ]
  },
  {
   "cell_type": "markdown",
   "id": "cubic-tablet",
   "metadata": {},
   "source": [
    "$对于(1)，由迭代公式：\\theta^{(t+1)} = \\mathrm{arg}\\max\\limits_{\\theta} E{[\\ln P(X,Z|\\theta)]} \\Rightarrow \\forall \\theta,E[\\ln P(X,Z|\\theta^{(t+1)})] \\ge E[\\ln P(X,Z|\\theta)]，令\\theta = \\theta^{(t)}即得证$"
   ]
  },
  {
   "cell_type": "markdown",
   "id": "tight-lover",
   "metadata": {},
   "source": [
    "$对于(2)，展开可得：\\int_{Z}\\ln P(Z|X,\\theta^{(t+1)}) P(Z|X,\\theta^{(t)})\\mathrm{d}Z \\le \\int_{Z}\\ln P(Z|X,\\theta^{(t)}) P(Z|X,\\theta^{(t)})\\mathrm{d}Z$"
   ]
  },
  {
   "cell_type": "markdown",
   "id": "sensitive-peace",
   "metadata": {},
   "source": [
    "$令P = P(Z|X,\\theta^{(t)}),Q = P(Z|X,\\theta^{(t+1)})，对等式两端同时取负，可得：\\int_{Z}-P\\ln Q \\mathrm{d}Z \\ge \\int_{Z}-P\\ln P\\mathrm{d}Z \\Rightarrow H(P,Q)\\ge H(P)$"
   ]
  },
  {
   "cell_type": "markdown",
   "id": "republican-employer",
   "metadata": {},
   "source": [
    "$因此，(2)等价于证明P与Q的交叉熵不小于P的信息熵，由交叉熵的性质易知正确$"
   ]
  },
  {
   "cell_type": "markdown",
   "id": "reasonable-ministry",
   "metadata": {},
   "source": [
    "$由(1),(2)的正确性，即得P(X|\\theta^{(t+1)})\\ge P(X|\\theta^{(t)})，故\\mathrm{EM}算法的迭代公式有效$"
   ]
  },
  {
   "cell_type": "markdown",
   "id": "tough-resistance",
   "metadata": {},
   "source": [
    " $\\Rightarrow 进一步地，以下说明\\mathrm{EM}算法迭代公式的原理：$"
   ]
  },
  {
   "cell_type": "markdown",
   "id": "special-despite",
   "metadata": {},
   "source": [
    "$由极大似然估计：\\hat{\\theta} = \\mathrm{arg}\\max\\limits_{\\theta} P(X|\\theta) = \\mathrm{arg}\\max\\limits_{\\theta} \\ln P(X|\\theta) = \\mathrm{arg}\\max\\limits_{\\theta} \\ln \\cfrac{P(X,Z|\\theta)}{P(Z|X,\\theta)} = \\mathrm{arg}\\max\\limits_{\\theta} [\\ln P(X,Z|\\theta) - \\ln{P(Z|X,\\theta)}]$"
   ]
  },
  {
   "cell_type": "markdown",
   "id": "binding-percentage",
   "metadata": {},
   "source": [
    "$引入关于隐变量的辅助分布Q(Z)，上式可进一步变形为：\\hat{\\theta} = \\mathrm{arg}\\max\\limits_{\\theta} [\\ln \\cfrac{P(X,Z|\\theta)}{Q(Z)} - \\ln \\cfrac{P(Z|X,\\theta)}{Q(Z)}]$"
   ]
  },
  {
   "cell_type": "markdown",
   "id": "verified-zealand",
   "metadata": {},
   "source": [
    "$对等式左边求关于Q(Z)的期望：\\int_Z\\hat{\\theta}\\cdot Q(Z)\\mathrm{d}Z = \\hat{\\theta}\\cdot \\int_Z Q(Z)\\mathrm{d}Z = \\hat\\theta$"
   ]
  },
  {
   "cell_type": "markdown",
   "id": "external-chicken",
   "metadata": {},
   "source": [
    "$再对等式右边求关于Q(Z)的期望：\\mathrm{arg}\\max\\limits_{\\theta} [\\int_Z Q(Z)\\ln \\cfrac{P(X,Z|\\theta)}{Q(Z)}\\mathrm{d}Z + \\int_Z-Q(Z)\\ln \\cfrac{P(Z|X,\\theta)}{Q(Z)}\\mathrm{d}Z]$"
   ]
  },
  {
   "cell_type": "markdown",
   "id": "lyric-stereo",
   "metadata": {},
   "source": [
    "$令\\mathrm{ELBO} = \\int_ZQ(Z)\\ln \\cfrac{P(X,Z|\\theta)}{Q(Z)}\\mathrm{d}Z,则有：\\hat\\theta = \\mathrm{arg}\\max\\limits_{\\theta} [\\mathrm{ELBO} + \\mathrm{KL}(Q(Z)\\| P(Z|X,\\theta))]$"
   ]
  },
  {
   "cell_type": "markdown",
   "id": "incomplete-stationery",
   "metadata": {},
   "source": [
    "$由\\mathrm{KL}散度的性质：\\mathrm{KL}(Q(Z)\\| P(Z|X,\\theta)) \\ge 0, 当且仅当Q(Z) = P(Z|X,\\theta)时取等号$"
   ]
  },
  {
   "cell_type": "markdown",
   "id": "designed-timber",
   "metadata": {},
   "source": [
    "$故第t轮迭代后，若令Q(Z) = P(Z|X,\\theta^{(t)})，则：\\mathrm{ELBO} + \\mathrm{KL}(Q(Z)\\| P(Z|X,\\theta)) =\\mathrm{ELBO} \\Rightarrow \\theta^{(t+1)} = \\mathrm{arg}\\max\\limits_{\\theta} \\mathrm{ELBO}，即：$"
   ]
  },
  {
   "cell_type": "markdown",
   "id": "going-mounting",
   "metadata": {},
   "source": [
    "$$\\begin{equation}\\begin{aligned}\n",
    "\\theta^{(t+1)} &= \\mathrm{arg}\\max\\limits_{\\theta} \\int_ZQ(Z)\\ln \\cfrac{P(X,Z|\\theta)}{Q(Z)}\\mathrm{d}Z \\\\ \n",
    "&= \\mathrm{arg}\\max\\limits_{\\theta} [\\int_ZQ(Z)\\ln P(X,Z|\\theta)\\mathrm{d}Z - \\int_ZQ(Z)\\ln{Q(Z)}\\mathrm{d}Z] \\\\\n",
    "&= \\mathrm{arg}\\max\\limits_{\\theta} \\int_ZQ(Z)\\ln P(X,Z|\\theta)\\mathrm{d}Z \\\\\n",
    "&= \\mathrm{arg}\\max\\limits_{\\theta} \\int_ZP(Z|X,\\theta^{(t)})\\ln P(X,Z|\\theta)\\mathrm{d}Z\\\\\n",
    "&= \\mathrm{arg}\\max\\limits_{\\theta} E_{P(Z|X,\\theta^{(t)})}{[\\ln P(X,Z|\\theta)]}\n",
    "\\end{aligned}\\end{equation}\n",
    "$$"
   ]
  },
  {
   "cell_type": "markdown",
   "id": "opposed-clone",
   "metadata": {},
   "source": [
    "$\\Rightarrow 综上所述：\\mathrm{EM}算法本质上是引入隐变量的辅助分布并求其期望，再利用\\mathrm{KL}散度的性质，将极大化似然的目标等价为极大化\\mathrm{ELBO}，即证据下界$"
   ]
  },
  {
   "cell_type": "markdown",
   "id": "suited-melissa",
   "metadata": {},
   "source": [
    "$而所谓证据下界的本质是：观测变量与隐变量的联合对数似然关于隐变量似然的期望：E_{P(Z|X,\\theta^{(t)})}{[\\ln P(X,Z|\\theta)]}$"
   ]
  },
  {
   "cell_type": "markdown",
   "id": "interim-playback",
   "metadata": {},
   "source": [
    "## 三、高斯混合模型"
   ]
  },
  {
   "cell_type": "markdown",
   "id": "moving-harvard",
   "metadata": {},
   "source": [
    "### 1. $Gaussian$ $Mixture$ $Model$"
   ]
  },
  {
   "cell_type": "markdown",
   "id": "documented-primary",
   "metadata": {},
   "source": [
    "$\\Rightarrow Description: 由K个高斯分布加权混合而成的分布$"
   ]
  },
  {
   "cell_type": "markdown",
   "id": "abandoned-caution",
   "metadata": {},
   "source": [
    "$\\Rightarrow\\mathrm{PDF}: p(X = x) = \\sum\\limits_{k=1}^K \\alpha_kN(\\vec\\mu_k,\\Sigma_k)，其中\\sum\\limits_{k=1}^K \\alpha_k = 1$"
   ]
  },
  {
   "cell_type": "markdown",
   "id": "loving-paste",
   "metadata": {},
   "source": [
    "$\\Rightarrow 随机变量有两部分：\\begin{cases}观测变量为X，观测样本为x_1,x_2,..,x_n，其中x_i是在任意一个高斯分布N(\\mu_j,\\Sigma_j)中取样；\\\\\n",
    "隐变量为Z，隐藏样本为z_1,z_2,..,z_n，其中z_i = j\\in\\{1,2,..,K\\}表示x_i选择第j个高斯分布N(\\mu_j,\\Sigma_j)，然后从中取样；\n",
    "\\end{cases}$"
   ]
  },
  {
   "cell_type": "markdown",
   "id": "french-acquisition",
   "metadata": {},
   "source": [
    "$\\Rightarrow 待估计参数有三组：\\begin{cases}\n",
    "高斯分布的选择概率，即权重\\alpha_1,\\alpha_2,..,\\alpha_K\\\\\n",
    "每个高斯分布的均值向量\\vec\\mu_1,\\vec\\mu_2,..,\\vec\\mu_K\\\\\n",
    "每个高斯分布的协方差矩阵\\Sigma_1,\\Sigma_2,..,\\Sigma_K\n",
    "\\end{cases}$"
   ]
  },
  {
   "cell_type": "markdown",
   "id": "boolean-combination",
   "metadata": {},
   "source": [
    "### 2. $\\mathrm{EM}$ $for$ $\\mathrm{GMM}$"
   ]
  },
  {
   "cell_type": "markdown",
   "id": "combined-driver",
   "metadata": {},
   "source": [
    "$\\Rightarrow E步：$"
   ]
  },
  {
   "cell_type": "markdown",
   "id": "outstanding-dominican",
   "metadata": {},
   "source": [
    "$$\\begin{equation}\\begin{aligned}\n",
    "Q(\\theta;\\theta^{(t)}) &= \\int_Z \\ln P(X,Z|\\theta) P(Z|X,\\theta^{(t)}) dZ \\\\\n",
    "&= \\sum\\limits_{z} [ \\ln \\prod\\limits_{i=1}^n P(x_i,z_i|\\theta)\\cdot \\prod\\limits_{j=1}^n P(z_j|x_j,\\theta^{(t)})]\\\\\n",
    "&= \\sum\\limits_{z_1\\sim z_n} [\\sum\\limits_{i=1}^n \\ln P(x_i,z_i|\\theta)\\cdot \\prod\\limits_{j=1}^n P(z_j|x_j,\\theta^{(t)})]，其中最外层求和表示：对于每个样本z_i,遍历所有可能的取值\\{1,2,..,K\\}\\\\ \n",
    "&= \\sum\\limits_{i=1}^n\\sum\\limits_{z_1\\sim z_n} [\\ln P(x_i,z_i|\\theta)\\cdot \\prod\\limits_{j=1}^n P(z_j|x_j,\\theta^{(t)})]\\\\\n",
    "&= \\sum\\limits_{i=1}^n \\sum\\limits_{z_1\\sim z_n}[\\ln P(x_i,z_i|\\theta)P(z_i|x_i,\\theta^{(t)})\\cdot \\prod\\limits_{j=1\\sim n,j\\neq i} P(z_j|x_j,\\theta^{(t)})]\\\\\n",
    "&= \\sum\\limits_{i=1}^n [\\sum\\limits_{z_i}\\ln P(x_i,z_i|\\theta)P(z_i|x_i,\\theta^{(t)})\\cdot \\sum\\limits_{z_1\\sim z_{i-1},z_{i+1}\\sim z_n}\\prod\\limits_{j=1\\sim n,j\\neq i} P(z_j|x_j,\\theta^{(t)})]\\\\\n",
    "&= \\sum\\limits_{i=1}^n \\sum\\limits_{z_i}\\ln P(x_i,z_i|\\theta)P(z_i|x_i,\\theta^{(t)})，其中\\forall i,z_i = 1 \\rightarrow K\n",
    "\\end{aligned}\\end{equation}\n",
    "$$"
   ]
  },
  {
   "cell_type": "markdown",
   "id": "included-equation",
   "metadata": {},
   "source": [
    "$其中倒数第二步到最后一步的推导：\\sum\\limits_{z_1\\sim z_{i-1},z_{i+1}\\sim z_n}\\prod\\limits_{j=1\\sim n,j\\neq i} P(z_j|x_j,\\theta^{(t)}) = \\sum\\limits_{z_1}P(z_1|x_1,\\theta^{(t)})[\\sum\\limits_{z_2}P(z_2|x_2,\\theta^{(t)})[..]] = 1\\times[1\\times[..]] = 1$"
   ]
  },
  {
   "cell_type": "markdown",
   "id": "worldwide-asian",
   "metadata": {},
   "source": [
    "$又\\begin{cases}\n",
    "由条件链式法则：P(x_i,z_i|\\theta) = P(z_i|\\theta)P(x_i|z_i,\\theta) = \\alpha_{z_i}N(x_i|\\vec\\mu_{z_i},\\Sigma_{z_i}), \\\\\n",
    "由贝叶斯定理：P(z_i|x_i,\\theta^{(t)}) = \\cfrac{P(x_i,z_i|\\theta^{(t)})}{P(x_i|\\theta^{(t)})} = \\cfrac{\\alpha_{z_i}^{(t)}N(x_i|\\vec\\mu_{z_i}^{(t)},\\Sigma_{z_i}^{(t)})}{\\sum\\limits_{k=1}^K \\alpha_k^{(t)}N(\\vec\\mu_k^{(t)},\\Sigma_k^{(t)})} = C_{x_i,z_i}^{(t)}\n",
    "\\end{cases}$"
   ]
  },
  {
   "cell_type": "markdown",
   "id": "comprehensive-agent",
   "metadata": {},
   "source": [
    "$因此Q(\\theta;\\theta^{(t)})的最终可化简如下：$"
   ]
  },
  {
   "cell_type": "markdown",
   "id": "liable-stream",
   "metadata": {},
   "source": [
    "$$\\begin{equation}\\begin{aligned}\n",
    "Q(\\theta;\\theta^{(t)}) \n",
    "&= \\sum\\limits_{i=1}^n \\sum\\limits_{z_i}\\ln \\alpha_{z_i}N(x_i|\\vec\\mu_{z_i},\\Sigma_{z_i})\\cdot C_{x_i,z_i}^{(t)}\\\\\n",
    "&= \\sum\\limits_{i=1}^n \\sum\\limits_{j=1}^K\\ln \\alpha_{j}N(x_i|\\vec\\mu_{j},\\Sigma_{j})\\cdot C_{x_i,j}^{(t)}\\\\\n",
    "&= \\sum\\limits_{j=1}^K\\sum\\limits_{i=1}^n C_{x_i,j}^{(t)}\\cdot[\\ln \\alpha_{j}+\\ln N(x_i|\\vec\\mu_{j},\\Sigma_{j})]\\\\\n",
    "&= \\sum\\limits_{j=1}^K\\sum\\limits_{i=1}^n C_{x_i,j}^{(t)}\\cdot[\\ln \\alpha_{j}+\\ln \\cfrac{1}{(2\\pi)^{p/2}|\\Sigma_j|^{1/2}} -\\frac{1}{2}(\\vec x_i-\\vec\\mu_j)^T\\Sigma_j^{-1}(\\vec x_i-\\vec\\mu_j)]\\\\\n",
    "&= \\sum\\limits_{j=1}^K\\sum\\limits_{i=1}^n C_{x_i,j}^{(t)}\\cdot[\\ln \\alpha_{j}-\\frac{p}{2}\\ln{(2\\pi)}-\\frac{1}{2}\\ln{|\\Sigma_j|} -\\frac{1}{2}(\\vec x_i-\\vec\\mu_j)^T\\Sigma_j^{-1}(\\vec x_i-\\vec\\mu_j)]\\\\\n",
    "\\end{aligned}\\end{equation}\n",
    "$$"
   ]
  },
  {
   "cell_type": "markdown",
   "id": "express-motel",
   "metadata": {},
   "source": [
    "$\\Rightarrow M步：$"
   ]
  },
  {
   "cell_type": "markdown",
   "id": "frequent-collective",
   "metadata": {},
   "source": [
    "$$\\begin{equation}\\begin{aligned}\n",
    "\\theta^{(t+1)} &= \\theta^* = \\mathrm{arg}\\max\\limits_{\\theta} Q(\\theta;\\theta^{(t)})\\\\\n",
    "&= \\mathrm{arg}\\max\\limits_{\\theta} \\sum\\limits_{j=1}^K\\sum\\limits_{i=1}^n C_{x_i,j}^{(t)}\\cdot[\\ln \\alpha_{j}-\\frac{1}{2}\\ln{|\\Sigma_j|} -\\frac{1}{2}(\\vec x_i-\\vec\\mu_j)^T\\Sigma_j^{-1}(\\vec x_i-\\vec\\mu_j)]\\\\\n",
    "\\end{aligned}\\end{equation}\n",
    "$$"
   ]
  },
  {
   "cell_type": "markdown",
   "id": "geographic-hamburg",
   "metadata": {},
   "source": [
    "$对三组待估计参数分别求极大值点：$"
   ]
  },
  {
   "cell_type": "markdown",
   "id": "chinese-soundtrack",
   "metadata": {},
   "source": [
    "$$\\begin{equation}\\begin{cases}\n",
    "\\alpha_{k}^{(t+1)} = \\mathrm{arg}\\max\\limits_{\\alpha_{k}} \\sum\\limits_{j=1}^K\\sum\\limits_{i=1}^n C_{x_i,j}^{(t)}\\cdot\\ln \\alpha_{j}, \\;s.t.\\sum\\limits_{j=1}^K \\alpha_{j}=1, &\\forall k \\in \\{1,2,..,K\\}\\\\\n",
    "\\mu_{k}^{(t+1)} = \\mathrm{arg}\\max\\limits_{\\mu_{k}} \\sum\\limits_{j=1}^K\\sum\\limits_{i=1}^n -\\frac{C_{x_i,j}^{(t)}}{2}(\\vec x_i-\\vec\\mu_j)^T\\Sigma_j^{-1}(\\vec x_i-\\vec\\mu_j),&\\forall k \\in \\{1,2,..,K\\}\\\\\n",
    "\\Sigma_{k}^{(t+1)} = \\mathrm{arg}\\max\\limits_{\\Sigma_{k}} \\sum\\limits_{j=1}^K\\sum\\limits_{i=1}^n -\\frac{C_{x_i,j}^{(t)}}{2}[\\ln{|\\Sigma_j|}+(\\vec x_i-\\vec\\mu_j)^T\\Sigma_j^{-1}(\\vec x_i-\\vec\\mu_j)],&\\forall k \\in \\{1,2,..,K\\}\n",
    "\\end{cases}\\end{equation}\n",
    "$$"
   ]
  },
  {
   "cell_type": "markdown",
   "id": "heavy-connecticut",
   "metadata": {},
   "source": [
    "$最终可得三组待估计参数的迭代公式：$"
   ]
  },
  {
   "cell_type": "markdown",
   "id": "palestinian-necessity",
   "metadata": {},
   "source": [
    "$$\\begin{equation}\\begin{cases}\n",
    "\\alpha_{k}^{(t+1)} = \\cfrac{\\sum\\limits_{i=1}^n C_{x_i,k}^{(t)}}{n}, &\\forall k \\in \\{1,2,..,K\\}\\\\\n",
    "\\mu_{k}^{(t+1)} = \\cfrac{\\sum\\limits_{i=1}^n C_{x_i,k}^{(t)}x_i}{\\sum\\limits_{i=1}^n C_{x_i,k}^{(t)}},&\\forall k \\in \\{1,2,..,K\\}\\\\\n",
    "\\Sigma_{k}^{(t+1)} = \\cfrac{\\sum\\limits_{i=1}^n C_{x_i,k}^{(t)}(x_i-\\mu_k^{(t)})(x_i-\\mu_k^{(t)})^T}{\\sum\\limits_{i=1}^n C_{x_i,k}^{(t)}} ,&\\forall k \\in \\{1,2,..,K\\}\n",
    "\\end{cases}\\end{equation}\n",
    "$$"
   ]
  },
  {
   "cell_type": "code",
   "execution_count": 71,
   "id": "incident-induction",
   "metadata": {},
   "outputs": [
    {
     "data": {
      "text/plain": [
       "(-7.382704638521613,\n",
       " 12.941513607114262,\n",
       " -11.16227612458543,\n",
       " 11.844287225408893)"
      ]
     },
     "execution_count": 71,
     "metadata": {},
     "output_type": "execute_result"
    },
    {
     "data": {
      "image/png": "[encoded data removed]",
      "text/plain": [
       "<Figure size 432x288 with 1 Axes>"
      ]
     },
     "metadata": {
      "needs_background": "light"
     },
     "output_type": "display_data"
    }
   ],
   "source": [
    "## GMM sampling and EM solving\n",
    "import matplotlib.pyplot as plt\n",
    "from sklearn.mixture import GaussianMixture\n",
    "from sklearn.datasets._samples_generator import make_blobs\n",
    "\n",
    "# generate data and show the true distribution\n",
    "n = 1000\n",
    "K = 4\n",
    "X,y_true = make_blobs(n_samples=n,centers=K)\n",
    "fig,ax = plt.subplots(1,1,sharey='row')\n",
    "ax.scatter(X[:,0],X[:,1],s=5,alpha=0.5)\n",
    "ax.grid(ls='--')\n",
    "plt.axis('equal')"
   ]
  },
  {
   "cell_type": "code",
   "execution_count": 72,
   "id": "injured-neighborhood",
   "metadata": {},
   "outputs": [
    {
     "data": {
      "text/plain": [
       "GaussianMixture(n_components=4)"
      ]
     },
     "execution_count": 72,
     "metadata": {},
     "output_type": "execute_result"
    }
   ],
   "source": [
    "# GMM\n",
    "gmm = GaussianMixture(n_components=4)\n",
    "gmm.fit(X)"
   ]
  },
  {
   "cell_type": "code",
   "execution_count": 73,
   "id": "latin-puppy",
   "metadata": {},
   "outputs": [
    {
     "name": "stdout",
     "output_type": "stream",
     "text": [
      "alpha:\n",
      "alpha 1 : 0.24900502159340307\n",
      "alpha 2 : 0.2500000000004568\n",
      "alpha 3 : 0.2500000000000003\n",
      "alpha 4 : 0.2509949784061398\n",
      "==========================\n",
      "mean:\n",
      "mean 1 : [-0.2343107  -0.81717985]\n",
      "mean 2 : [5.93799004 7.932809  ]\n",
      "mean 3 : [ 8.93245369 -7.19676559]\n",
      "mean 4 : [-3.27519924 -5.92337824]\n",
      "==========================\n",
      "covariance:\n",
      "conv 1 : [[0.90398539 0.03980379]\n",
      " [0.03980379 0.95017554]]\n",
      "conv 2 : [[1.03089867 0.03370964]\n",
      " [0.03370964 0.96127245]]\n",
      "conv 3 : [[1.11283483 0.00535484]\n",
      " [0.00535484 0.9154477 ]]\n",
      "conv 4 : [[1.00470673 0.01692275]\n",
      " [0.01692275 1.00302633]]\n",
      "==========================\n"
     ]
    }
   ],
   "source": [
    "# show the theta\n",
    "print(\"alpha:\")\n",
    "for k in range(K):\n",
    "    print('alpha',k+1,':',gmm.weights_[k])\n",
    "print(\"==========================\")\n",
    "print(\"mean:\")\n",
    "for k in range(K):\n",
    "    print('mean',k+1,':',gmm.means_[k])\n",
    "print(\"==========================\")\n",
    "print(\"covariance:\")\n",
    "for k in range(K):\n",
    "    print('conv',k+1,':',gmm.covariances_[k])\n",
    "print(\"==========================\")"
   ]
  },
  {
   "cell_type": "code",
   "execution_count": 74,
   "id": "correct-organ",
   "metadata": {},
   "outputs": [
    {
     "name": "stdout",
     "output_type": "stream",
     "text": [
      "[[1.77635535e-06 5.05838386e-54 1.93090447e-18 9.99998224e-01]\n",
      " [9.99999983e-01 9.47828239e-25 2.74446254e-23 1.73357821e-08]\n",
      " [6.56171219e-24 1.00000000e+00 1.15654959e-57 2.34574859e-56]\n",
      " [9.99999942e-01 9.39416924e-26 6.65690339e-24 5.81494353e-08]\n",
      " [3.30005885e-26 1.08848871e-50 1.00000000e+00 1.15655717e-28]\n",
      " [9.99999860e-01 2.57982683e-26 8.58574716e-22 1.39930987e-07]\n",
      " [7.46856072e-31 1.00000000e+00 1.40805348e-53 7.68870809e-66]\n",
      " [9.99999877e-01 1.82536188e-26 2.85190448e-26 1.22538429e-07]\n",
      " [3.35587804e-25 1.00000000e+00 8.05785547e-62 2.09280480e-58]\n",
      " [1.66113556e-06 1.87042564e-54 2.25304337e-24 9.99998339e-01]]\n",
      "[4 1 2 1 3 1 2 1 2 4]\n"
     ]
    }
   ],
   "source": [
    "# show the prediction\n",
    "print(gmm.predict_proba(X)[:10])\n",
    "print(np.argmax(gmm.predict_proba(X)[:10],axis=1)+1)"
   ]
  },
  {
   "cell_type": "code",
   "execution_count": 75,
   "id": "waiting-estimate",
   "metadata": {},
   "outputs": [
    {
     "data": {
      "image/png": "[encoded data removed]",
      "text/plain": [
       "<Figure size 432x288 with 2 Axes>"
      ]
     },
     "metadata": {
      "needs_background": "light"
     },
     "output_type": "display_data"
    }
   ],
   "source": [
    "# show the predicted labels\n",
    "labels = gmm.predict(X)\n",
    "fig,ax = plt.subplots(1,2,sharey='row')\n",
    "ax[0].scatter(X[:,0],X[:,1],s=5,alpha=0.5)\n",
    "ax[0].grid(ls='--')\n",
    "ax[1].scatter(X[:,0],X[:,1],s=5,alpha=0.5,c=labels,cmap='viridis')\n",
    "ax[1].grid(ls='--')"
   ]
  },
  {
   "cell_type": "code",
   "execution_count": null,
   "id": "ranking-piece",
   "metadata": {},
   "outputs": [],
   "source": []
  }
 ],
 "metadata": {
  "kernelspec": {
   "display_name": "Python 3",
   "language": "python",
   "name": "python3"
  },
  "language_info": {
   "codemirror_mode": {
    "name": "ipython",
    "version": 3
   },
   "file_extension": ".py",
   "mimetype": "text/x-python",
   "name": "python",
   "nbconvert_exporter": "python",
   "pygments_lexer": "ipython3",
   "version": "3.8.3"
  }
 },
 "nbformat": 4,
 "nbformat_minor": 5
}
