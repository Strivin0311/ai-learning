{
 "cells": [
  {
   "cell_type": "markdown",
   "metadata": {},
   "source": [
    "#### generate the book link with extraction code(baidu cloud disk)"
   ]
  },
  {
   "cell_type": "code",
   "execution_count": 39,
   "metadata": {},
   "outputs": [
    {
     "name": "stdout",
     "output_type": "stream",
     "text": [
      "book link: [here](https://pan.baidu.com/s/1Fml7_EGOqEX1O63u6cjxoQ), with extraction code: `28dx`\n"
     ]
    }
   ],
   "source": [
    "# s = \"链接: https://pan.baidu.com/s/1DeAIAIR_oUW9zLiX6eYc4A 提取码: e83d \\n--来自百度网盘超级会员v2的分享\"\n",
    "s = input()\n",
    "\n",
    "link = s.split(': ')[1].split()[0]\n",
    "ext_code = s.split(': ')[2].split()[0]\n",
    "template = f\"book link: [here]({link}), with extraction code: `{ext_code}`\"\n",
    "print(template)"
   ]
  },
  {
   "cell_type": "markdown",
   "metadata": {},
   "source": [
    "#### generate the paper link"
   ]
  },
  {
   "cell_type": "code",
   "execution_count": 16,
   "metadata": {},
   "outputs": [
    {
     "name": "stdout",
     "output_type": "stream",
     "text": [
      "\n",
      "paper link: [here](https://arxiv.org/pdf/1711.05101)\n",
      "\n",
      "citation: \n",
      "```bibtex\n",
      "\n",
      "```\n",
      "\n"
     ]
    }
   ],
   "source": [
    "paper_link = input(\"link: \")\n",
    "citation = input(\"citation: \")\n",
    "\n",
    "paper_template = f\"\"\"\n",
    "paper link: [here]({paper_link})\n",
    "\n",
    "citation: \n",
    "```bibtex\n",
    "{citation}\n",
    "```\n",
    "\"\"\"\n",
    "print(paper_template)"
   ]
  },
  {
   "cell_type": "markdown",
   "metadata": {},
   "source": [
    "#### generate the file title"
   ]
  },
  {
   "cell_type": "code",
   "execution_count": 30,
   "metadata": {},
   "outputs": [
    {
     "name": "stdout",
     "output_type": "stream",
     "text": [
      "# Algorithm Desgin and Analysis\n",
      "*Here's some resources about Algorithm Desgin and Analysis*\n"
     ]
    }
   ],
   "source": [
    "title = input()\n",
    "\n",
    "title_template = f\"\"\"# {title}\n",
    "*Here's some resources about {title}*\"\"\"\n",
    "print(title_template)"
   ]
  },
  {
   "cell_type": "markdown",
   "metadata": {},
   "source": [
    "#### generate the resource title"
   ]
  },
  {
   "cell_type": "code",
   "execution_count": 37,
   "metadata": {},
   "outputs": [
    {
     "name": "stdout",
     "output_type": "stream",
     "text": [
      "#### Algorithm Design [`UNREAD`]\n"
     ]
    }
   ],
   "source": [
    "resource_title = input(\"title: \")\n",
    "read_tag = input(\"Have you read it? (yes/no, default no)\")\n",
    "if read_tag.lower() == \"no\" or read_tag.lower() == \"\":\n",
    "    read_tag = \"UNREAD\"\n",
    "elif read_tag.lower() == \"yes\":\n",
    "    read_tag = \"READ\"\n",
    "else:\n",
    "    read_tag = \"UNKNOWN\"\n",
    "resource_template = f\"#### {resource_title} [`{read_tag}`]\"\n",
    "print(resource_template)"
   ]
  },
  {
   "cell_type": "markdown",
   "metadata": {},
   "source": [
    "#### generate the notebook link"
   ]
  },
  {
   "cell_type": "code",
   "execution_count": 22,
   "metadata": {},
   "outputs": [
    {
     "name": "stdout",
     "output_type": "stream",
     "text": [
      "here's a notebook about `Monte-Carlo Markov Chain Sampling and Gibbs Sampling`, including its formula and visualization: [here](../../notebooks/MCMC&Gibbs.ipynb)\n"
     ]
    }
   ],
   "source": [
    "notebook_file = input(\"filename: \")\n",
    "notebook_theme = input(\"theme: \")\n",
    "notebook_template = f\"here's a notebook about `{notebook_theme}`, including its formula and visualization: [here](../../notebooks/{notebook_file}.ipynb)\"\n",
    "print(notebook_template)"
   ]
  }
 ],
 "metadata": {
  "kernelspec": {
   "display_name": "Python 3",
   "language": "python",
   "name": "python3"
  },
  "language_info": {
   "codemirror_mode": {
    "name": "ipython",
    "version": 3
   },
   "file_extension": ".py",
   "mimetype": "text/x-python",
   "name": "python",
   "nbconvert_exporter": "python",
   "pygments_lexer": "ipython3",
   "version": "3.8.3"
  },
  "orig_nbformat": 4
 },
 "nbformat": 4,
 "nbformat_minor": 2
}
