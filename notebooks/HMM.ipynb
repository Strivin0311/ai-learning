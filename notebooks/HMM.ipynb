{
 "cells": [
  {
   "cell_type": "markdown",
   "id": "surprising-amendment",
   "metadata": {},
   "source": [
    "## 一、马尔科夫链"
   ]
  },
  {
   "cell_type": "markdown",
   "id": "another-energy",
   "metadata": {},
   "source": [
    "### 1. $Markov$ $Chain$"
   ]
  },
  {
   "cell_type": "markdown",
   "id": "entertaining-geometry",
   "metadata": {},
   "source": [
    "$\\Rightarrow Definition: $ "
   ]
  },
  {
   "cell_type": "markdown",
   "id": "transparent-flight",
   "metadata": {},
   "source": [
    "$设在一系列离散的时间点t_1,t_2,..,t_n上，状态变量X通过随机游走，所生成的状态序列为x_1,x_2,..,x_n\\in S = \\{s_1,s_2,..,s_m\\}$"
   ]
  },
  {
   "cell_type": "markdown",
   "id": "conditional-tuner",
   "metadata": {},
   "source": [
    "$称这个状态序列为马尔科夫链，而各个状态之间的转移关系由状态转移矩阵P所描述$"
   ]
  },
  {
   "cell_type": "markdown",
   "id": "meaningful-service",
   "metadata": {},
   "source": [
    "$其中P_{ij}表示状态s_i在下一个时间点转移到状态s_j的概率P(X_{n+1}=s_j|X_n=s_i)，\\forall i,j\\in \\{1,2,..,m\\}$"
   ]
  },
  {
   "cell_type": "markdown",
   "id": "banner-press",
   "metadata": {},
   "source": [
    "$\\Rightarrow Properties:$"
   ]
  },
  {
   "cell_type": "markdown",
   "id": "guilty-argentina",
   "metadata": {},
   "source": [
    "$$\\begin{equation}\\begin{aligned}\n",
    "& ① 由转移矩阵的概念显然知：\\sum\\limits_{j=1}^mP_{ij} = 1，即从状态s_i出发到达所有状态的概率之和为1；\\\\\n",
    "& ② 在任意时刻t_n，对任意状态s_i,s_j\\in S，以及时刻t_n前任意可能的状态序列x_1,x_2,..,x_{n-1}，均有：\\\\\n",
    "&\\quad\\quad P(X_{n+1}=s_j|X_n = s_i,X_{n-1} = x_{n-1},..,X_1 = x_1) = P(X_{n+1}=s_j|X_n = s_i) = P_{ij}\\\\\n",
    "&\\Rightarrow 即下一个时刻的状态x_{n+1}的转移仅仅依赖于此刻的状态x_n，与历史信息无关\\\\\n",
    "& ③ 状态转移矩阵描述的是单步转移概率，而状态s_i经过k步到达状态s_j的多步状态转移概率为：\\\\\n",
    "&\\quad\\quad\\quad\\quad\\quad\\quad\\quad\\quad P(X_{n+k}=s_j|X_n = s_i) = P^k_{i,j}\\\\\n",
    "& ④ 每条马尔科夫链都可得到其路径概率：(其中初始概率由初始状态分布决定，与状态转移矩阵无关)\\\\\n",
    "&\\quad\\quad\\quad\\quad\\quad\\quad P(X_0=s_{i_0},X_1=s_{i_1},..,X_n=s_{i_n}) = P(X_0=s_{i_0})\\cdot\\prod\\limits_{j=1}^n P_{i_{j-1},i_{j}}\\\\\n",
    "& ⑤ 对于一个不可约、非周期、正常返的马尔科夫链，当n\\rightarrow \\infty时，状态分布会收敛于一个唯一的稳态分布\\pi\\\\\n",
    "& 且每个状态的概率都大于0，该稳态分布\\pi = [\\pi_1,\\pi_2,..,\\pi_m]^T满足：\\begin{cases}P^T\\pi = \\pi &\\Rightarrow稳定性\\\\\\textbf{1}^T\\pi = 1&\\Rightarrow归一性\\end{cases}\\\\\n",
    "\\end{aligned}\\end{equation}\n",
    "$$"
   ]
  },
  {
   "cell_type": "code",
   "execution_count": 4,
   "id": "operating-execution",
   "metadata": {},
   "outputs": [
    {
     "data": {
      "text/html": [
       "<div>\n",
       "<style scoped>\n",
       "    .dataframe tbody tr th:only-of-type {\n",
       "        vertical-align: middle;\n",
       "    }\n",
       "\n",
       "    .dataframe tbody tr th {\n",
       "        vertical-align: top;\n",
       "    }\n",
       "\n",
       "    .dataframe thead th {\n",
       "        text-align: right;\n",
       "    }\n",
       "</style>\n",
       "<table border=\"1\" class=\"dataframe\">\n",
       "  <thead>\n",
       "    <tr style=\"text-align: right;\">\n",
       "      <th></th>\n",
       "      <th>无产阶级</th>\n",
       "      <th>中产阶级</th>\n",
       "      <th>资产阶级</th>\n",
       "    </tr>\n",
       "  </thead>\n",
       "  <tbody>\n",
       "    <tr>\n",
       "      <th>无产阶级</th>\n",
       "      <td>0.7</td>\n",
       "      <td>0.2</td>\n",
       "      <td>0.1</td>\n",
       "    </tr>\n",
       "    <tr>\n",
       "      <th>中产阶级</th>\n",
       "      <td>0.3</td>\n",
       "      <td>0.5</td>\n",
       "      <td>0.2</td>\n",
       "    </tr>\n",
       "    <tr>\n",
       "      <th>资产阶级</th>\n",
       "      <td>0.2</td>\n",
       "      <td>0.4</td>\n",
       "      <td>0.4</td>\n",
       "    </tr>\n",
       "  </tbody>\n",
       "</table>\n",
       "</div>"
      ],
      "text/plain": [
       "      无产阶级  中产阶级  资产阶级\n",
       "无产阶级   0.7   0.2   0.1\n",
       "中产阶级   0.3   0.5   0.2\n",
       "资产阶级   0.2   0.4   0.4"
      ]
     },
     "execution_count": 4,
     "metadata": {},
     "output_type": "execute_result"
    }
   ],
   "source": [
    "## take social state as an example for Markov Chain\n",
    "import numpy as np\n",
    "import pandas as pd\n",
    "P = np.array([\n",
    "    [0.7,0.2,0.1],\n",
    "    [0.3,0.5,0.2],\n",
    "    [0.2,0.4,0.4]\n",
    "])\n",
    "state_str = [\"无产阶级\",\"中产阶级\",\"资产阶级\"] \n",
    "social_state = pd.DataFrame(P,index=[\"无产阶级\",\"中产阶级\",\"资产阶级\"],columns=[\"无产阶级\",\"中产阶级\",\"资产阶级\"])\n",
    "social_state"
   ]
  },
  {
   "cell_type": "code",
   "execution_count": 56,
   "id": "extended-house",
   "metadata": {},
   "outputs": [
    {
     "name": "stdout",
     "output_type": "stream",
     "text": [
      "the solved stable state distribution: [[0.46808511 0.34042553 0.19148936]]\n",
      "the iterative stable state distribution: [0.46808511 0.34042553 0.19148936]\n"
     ]
    },
    {
     "data": {
      "text/html": [
       "<div>\n",
       "<style scoped>\n",
       "    .dataframe tbody tr th:only-of-type {\n",
       "        vertical-align: middle;\n",
       "    }\n",
       "\n",
       "    .dataframe tbody tr th {\n",
       "        vertical-align: top;\n",
       "    }\n",
       "\n",
       "    .dataframe thead th {\n",
       "        text-align: right;\n",
       "    }\n",
       "</style>\n",
       "<table border=\"1\" class=\"dataframe\">\n",
       "  <thead>\n",
       "    <tr style=\"text-align: right;\">\n",
       "      <th></th>\n",
       "      <th>无产阶级</th>\n",
       "      <th>中产阶级</th>\n",
       "      <th>资产阶级</th>\n",
       "    </tr>\n",
       "  </thead>\n",
       "  <tbody>\n",
       "    <tr>\n",
       "      <th>无产阶级</th>\n",
       "      <td>0.468085</td>\n",
       "      <td>0.340426</td>\n",
       "      <td>0.191489</td>\n",
       "    </tr>\n",
       "    <tr>\n",
       "      <th>中产阶级</th>\n",
       "      <td>0.468085</td>\n",
       "      <td>0.340426</td>\n",
       "      <td>0.191489</td>\n",
       "    </tr>\n",
       "    <tr>\n",
       "      <th>资产阶级</th>\n",
       "      <td>0.468085</td>\n",
       "      <td>0.340426</td>\n",
       "      <td>0.191489</td>\n",
       "    </tr>\n",
       "  </tbody>\n",
       "</table>\n",
       "</div>"
      ],
      "text/plain": [
       "          无产阶级      中产阶级      资产阶级\n",
       "无产阶级  0.468085  0.340426  0.191489\n",
       "中产阶级  0.468085  0.340426  0.191489\n",
       "资产阶级  0.468085  0.340426  0.191489"
      ]
     },
     "execution_count": 56,
     "metadata": {},
     "output_type": "execute_result"
    }
   ],
   "source": [
    "## randomly walk into stable state\n",
    "n = 100 # time steps\n",
    "p0 = np.array([0,0,0])\n",
    "p0[np.random.choice([0,1,2])] = 1 # initial state: {0,1,2} => {[1,0,0],[0,1,0],[0,0,1]}\n",
    "T = np.arange(n+1) # time list\n",
    "S = [np.argmax(p0)] # state list\n",
    "Pn = P # the n power of P\n",
    "A = P.T-np.eye(3) # the coeff matrix\n",
    "b = np.array([0,0,0])\n",
    "\n",
    "def solveHomoLinear(A,b): # to solve homogeneous linear function with infinite solutions\n",
    "    eps = 1e-15\n",
    "    u,s,vt = np.linalg.svd(A) # Singular Value Decomposition\n",
    "    sol = np.compress(s <= eps,vt,axis=0)\n",
    "    return sol\n",
    "\n",
    "def sampleFrom(proba):\n",
    "    rand = np.random.rand()\n",
    "    pre = 0\n",
    "    for i,p in enumerate(proba):\n",
    "        if pre <= rand < pre+p:\n",
    "            return i\n",
    "            break\n",
    "        else:\n",
    "            pre += p\n",
    "    return len(proba)-1\n",
    "\n",
    "for ti in T[1:]:\n",
    "    Pn = np.matmul(Pn,P) # the i power of P\n",
    "    proba = np.matmul(P.T,p0) # the proba distribution of time ti\n",
    "    state = sampleFrom(proba) # xi = state\n",
    "    p0 = np.array([0,0,0])\n",
    "    p0[state] = 1\n",
    "    S.append(state)\n",
    "\n",
    "\n",
    "pi = solveHomoLinear(A, b) # to solve the stable state distribution as stable condition\n",
    "pi = pi/np.sum(pi) # normal condition\n",
    "print(\"the solved stable state distribution:\",pi)\n",
    "print(\"the iterative stable state distribution:\",Pn[0,:])\n",
    "stable_social_state = pd.DataFrame(Pn,\n",
    "                                   index=[\"无产阶级\",\"中产阶级\",\"资产阶级\"],\n",
    "                                   columns=[\"无产阶级\",\"中产阶级\",\"资产阶级\"]\n",
    "                    )\n",
    "stable_social_state"
   ]
  },
  {
   "cell_type": "code",
   "execution_count": 60,
   "id": "latest-letter",
   "metadata": {},
   "outputs": [
    {
     "data": {
      "text/plain": [
       "Text(0, 0.5, 'state')"
      ]
     },
     "execution_count": 60,
     "metadata": {},
     "output_type": "execute_result"
    },
    {
     "data": {
      "image/png": "[encoded data removed]",
      "text/plain": [
       "<Figure size 432x288 with 1 Axes>"
      ]
     },
     "metadata": {
      "needs_background": "light"
     },
     "output_type": "display_data"
    }
   ],
   "source": [
    "## show the Markov chain\n",
    "import matplotlib.pyplot as plt\n",
    "plt.plot(T,S,c='steelblue',marker='o',alpha=0.5)\n",
    "plt.xlim(0,n+1)\n",
    "plt.yticks(range(3))\n",
    "plt.xlabel('time step')\n",
    "plt.ylabel('state')"
   ]
  },
  {
   "cell_type": "markdown",
   "id": "israeli-batch",
   "metadata": {},
   "source": [
    "## 二、隐马尔科夫模型"
   ]
  },
  {
   "cell_type": "markdown",
   "id": "continuing-symposium",
   "metadata": {},
   "source": [
    "### 1. $Hidden$ $Markov$ $Model$ "
   ]
  },
  {
   "cell_type": "markdown",
   "id": "varied-agriculture",
   "metadata": {},
   "source": [
    "$\\Rightarrow Description: 若一个马尔科夫链的状态随机变量X不可观测，但是每个状态s_i，均对应服从某概率分布的可观测随机变量Y$"
   ]
  },
  {
   "cell_type": "markdown",
   "id": "romance-receptor",
   "metadata": {},
   "source": [
    "$则称该模型为隐马尔科夫模型，其中观测样本为y_1,y_2,..,y_n \\in H = \\{h_1,h_2,..,h_k\\}$"
   ]
  },
  {
   "cell_type": "markdown",
   "id": "thorough-winter",
   "metadata": {},
   "source": [
    "$任一状态s_i都对应k个观测值的一个分布，形成观测概率矩阵B$"
   ]
  },
  {
   "cell_type": "markdown",
   "id": "bearing-constraint",
   "metadata": {},
   "source": [
    "$其中B_{ij}表示在状态s_i下，观测值h_j的出现概率P(Y_n = h_j|X_n = s_i)，\\forall i\\in\\{1,2,..,m\\},j\\in\\{1,2,..,k\\}$"
   ]
  },
  {
   "cell_type": "markdown",
   "id": "enhanced-address",
   "metadata": {},
   "source": [
    "$因此隐马尔科夫模型对应两个序列：\\begin{cases}\n",
    "状态变量X的马尔科夫链：x_1,x_2,..,x_n \\in S,&不可观测\\\\\n",
    "观测变量Y的观测链：y_1,y_2,..,y_n \\in H, &可观测\\\\\n",
    "\\end{cases}$"
   ]
  },
  {
   "cell_type": "markdown",
   "id": "palestinian-papua",
   "metadata": {},
   "source": [
    "$同时隐马尔科夫模型对应两个概率矩阵：\\begin{cases}\n",
    "状态之间的状态转移矩阵P：P_{ij} = P(X_{n+1} = s_j | X_n = s_i),&\\forall i,j\\in \\{1,2,..,m\\}\\\\\n",
    "每个状态到观测值的观测概率矩阵B：B_{ij} = P(Y_n = h_j|X_n = s_i),&\\forall i\\in\\{1,2,..,m\\},j\\in\\{1,2,..,k\\}\\\\\n",
    "\\end{cases}$"
   ]
  },
  {
   "cell_type": "markdown",
   "id": "administrative-needle",
   "metadata": {},
   "source": [
    "$最终，隐马尔科夫模型由三部分决定，即参数\\theta = (P,B,\\pi)，其中P为状态转移方程，B为观测概率矩阵，\\pi为初始状态分布$"
   ]
  },
  {
   "cell_type": "markdown",
   "id": "disciplinary-bahamas",
   "metadata": {},
   "source": [
    "$\\Rightarrow Property: 任意时刻的观测仅依赖于此刻的隐状态，与其他时刻的隐状态和观测均无关，即：$"
   ]
  },
  {
   "cell_type": "markdown",
   "id": "legitimate-teaching",
   "metadata": {},
   "source": [
    "$$\n",
    "P(Y_n=h_{j_n}|X_n=s_{i_n},X_{n-1}=s_{i_{n-1}},..,X_0=s_{i_0}) = P(Y_n=h_{j_n}|X_n=s_{i_n})\n",
    "$$"
   ]
  },
  {
   "cell_type": "markdown",
   "id": "suspected-mistake",
   "metadata": {},
   "source": [
    "### 2. $Forward$ $\\mathrm{DP}$ $Algorithm$ $for$ $Path$ $Probability$"
   ]
  },
  {
   "cell_type": "markdown",
   "id": "round-lindsay",
   "metadata": {},
   "source": [
    "$\\Rightarrow Background:当一个隐马尔科夫模型确定，即其参数\\theta = (P,B,\\pi)均已知时，计算某观测链(y_1,y_2,..,y_n)的出现概率P(y_{1\\sim n}|\\theta)$"
   ]
  },
  {
   "cell_type": "markdown",
   "id": "manual-stadium",
   "metadata": {},
   "source": [
    "$\\Rightarrow Algorithm:$"
   ]
  },
  {
   "cell_type": "markdown",
   "id": "military-major",
   "metadata": {},
   "source": [
    "$$\\begin{equation}\\begin{aligned}\n",
    "&① 令dp[t][i] = P(y_{1\\sim t},x_t=s_i|\\theta)，表示前t时刻观测序列为y_{1\\sim t}且t时刻隐状态为s_i的联合概率，则由边缘概率公式：\\\\\n",
    "&\\quad\\quad\\quad\\quad\\quad\\quad\\quad\\quad\\quad  P(y_{1\\sim t}|\\theta) = \\sum\\limits_{i=1}^mP(y_{1\\sim t},x_t=s_i|\\theta) = \\sum\\limits_{i=1}^m dp[t][i]\\\\\n",
    "&② 由①，可得dp状态转移方程：dp[t+1][i] = \\sum\\limits_{l=1}^m [dp[t][l]\\cdot P_{li}\\cdot B_{ij}] =[\\sum\\limits_{l=1}^m dp[t][l]\\cdot P_{li}]\\cdot B_{ij}，其中y_{t+1} = h_j\\\\\n",
    "& \\Rightarrow其含义为：前t+1时刻观测序列为y_{1\\sim t+1}且t+1时刻隐状态为s_{i}的概率，等于前t时刻观测序列为y_{1\\sim t}\\\\\n",
    "&\\quad\\quad\\quad\\quad\\quad且枚举t时刻的隐状态s_l，并由概率P_{li}转移至t+1时刻的隐状态s_{i}，再在概率B_{ij}下选中y_{t+1}的观测值h_j的全概率\\\\\n",
    "&③ 初始状态：dp[1][i] = P(y_1=h_j,x_1=s_i|\\theta) = \\pi_{i}\\cdot B_{ij}\\\\\n",
    "&\\Rightarrow 表示初始时刻，初始分布\\pi选中隐状态s_i，又在B_{ij}下选中观测值h_j的概率\n",
    "\\end{aligned}\\end{equation}\n",
    "$$"
   ]
  },
  {
   "cell_type": "code",
   "execution_count": 67,
   "id": "strange-melbourne",
   "metadata": {},
   "outputs": [],
   "source": [
    "## take baby's daily life as an example\n",
    "import numpy as np\n",
    "import pandas as pd\n",
    "# init params\n",
    "m = 2\n",
    "k = 3\n",
    "n = 5\n",
    "state_str = ['饿了','困了'] # baby cannot talk, so cannont be observed\n",
    "observe_str = ['大哭大闹','无精打采','爬来爬去']\n",
    "P = np.array([\n",
    "    [0.4,0.6],\n",
    "    [0.3,0.7]\n",
    "])\n",
    "B = np.array([\n",
    "    [0.7,0.2,0.1],\n",
    "    [0.1,0.8,0.1]\n",
    "])\n",
    "pi = np.array([0.8,0.2]) # init time: noon time"
   ]
  },
  {
   "cell_type": "code",
   "execution_count": 68,
   "id": "dutch-steam",
   "metadata": {},
   "outputs": [
    {
     "data": {
      "text/html": [
       "<div>\n",
       "<style scoped>\n",
       "    .dataframe tbody tr th:only-of-type {\n",
       "        vertical-align: middle;\n",
       "    }\n",
       "\n",
       "    .dataframe tbody tr th {\n",
       "        vertical-align: top;\n",
       "    }\n",
       "\n",
       "    .dataframe thead th {\n",
       "        text-align: right;\n",
       "    }\n",
       "</style>\n",
       "<table border=\"1\" class=\"dataframe\">\n",
       "  <thead>\n",
       "    <tr style=\"text-align: right;\">\n",
       "      <th></th>\n",
       "      <th>饿了</th>\n",
       "      <th>困了</th>\n",
       "    </tr>\n",
       "  </thead>\n",
       "  <tbody>\n",
       "    <tr>\n",
       "      <th>饿了</th>\n",
       "      <td>0.4</td>\n",
       "      <td>0.6</td>\n",
       "    </tr>\n",
       "    <tr>\n",
       "      <th>困了</th>\n",
       "      <td>0.3</td>\n",
       "      <td>0.7</td>\n",
       "    </tr>\n",
       "  </tbody>\n",
       "</table>\n",
       "</div>"
      ],
      "text/plain": [
       "     饿了   困了\n",
       "饿了  0.4  0.6\n",
       "困了  0.3  0.7"
      ]
     },
     "execution_count": 68,
     "metadata": {},
     "output_type": "execute_result"
    }
   ],
   "source": [
    "# show P\n",
    "state_df = pd.DataFrame(P,index=state_str,columns=state_str)\n",
    "state_df"
   ]
  },
  {
   "cell_type": "code",
   "execution_count": 69,
   "id": "unable-modeling",
   "metadata": {
    "scrolled": true
   },
   "outputs": [
    {
     "data": {
      "text/html": [
       "<div>\n",
       "<style scoped>\n",
       "    .dataframe tbody tr th:only-of-type {\n",
       "        vertical-align: middle;\n",
       "    }\n",
       "\n",
       "    .dataframe tbody tr th {\n",
       "        vertical-align: top;\n",
       "    }\n",
       "\n",
       "    .dataframe thead th {\n",
       "        text-align: right;\n",
       "    }\n",
       "</style>\n",
       "<table border=\"1\" class=\"dataframe\">\n",
       "  <thead>\n",
       "    <tr style=\"text-align: right;\">\n",
       "      <th></th>\n",
       "      <th>大哭大闹</th>\n",
       "      <th>无精打采</th>\n",
       "      <th>爬来爬去</th>\n",
       "    </tr>\n",
       "  </thead>\n",
       "  <tbody>\n",
       "    <tr>\n",
       "      <th>饿了</th>\n",
       "      <td>0.7</td>\n",
       "      <td>0.2</td>\n",
       "      <td>0.1</td>\n",
       "    </tr>\n",
       "    <tr>\n",
       "      <th>困了</th>\n",
       "      <td>0.1</td>\n",
       "      <td>0.8</td>\n",
       "      <td>0.1</td>\n",
       "    </tr>\n",
       "  </tbody>\n",
       "</table>\n",
       "</div>"
      ],
      "text/plain": [
       "    大哭大闹  无精打采  爬来爬去\n",
       "饿了   0.7   0.2   0.1\n",
       "困了   0.1   0.8   0.1"
      ]
     },
     "execution_count": 69,
     "metadata": {},
     "output_type": "execute_result"
    }
   ],
   "source": [
    "# show B\n",
    "observe_df = pd.DataFrame(B,index=state_str,columns=observe_str)\n",
    "observe_df"
   ]
  },
  {
   "cell_type": "code",
   "execution_count": 70,
   "id": "hawaiian-alfred",
   "metadata": {},
   "outputs": [
    {
     "data": {
      "text/plain": [
       "饿了    0.8\n",
       "困了    0.2\n",
       "dtype: float64"
      ]
     },
     "execution_count": 70,
     "metadata": {},
     "output_type": "execute_result"
    }
   ],
   "source": [
    "# show pi\n",
    "pi_df = pd.Series(pi,index=state_str)\n",
    "pi_df"
   ]
  },
  {
   "cell_type": "code",
   "execution_count": 77,
   "id": "interior-commonwealth",
   "metadata": {},
   "outputs": [
    {
     "name": "stdout",
     "output_type": "stream",
     "text": [
      "The path probability of ['大哭大闹', '爬来爬去', '大哭大闹', '无精打采', '爬来爬去']  : 0.0010096999999999999\n",
      "The path probability of ['大哭大闹', '大哭大闹', '大哭大闹', '无精打采', '无精打采']  : 0.02256352\n",
      "The path probability of ['无精打采', '无精打采', '无精打采', '无精打采', '无精打采']  : 0.04361093120000001\n"
     ]
    }
   ],
   "source": [
    "## path proba estimation using forward dp algorithm\n",
    "\n",
    "def forwardDP(path):\n",
    "    dp = np.zeros((n,m)) # dp[t][i] = P(y1~yt,xt=si|θ), t∈{1,2,..,n}, i∈{1,2,..,m}\n",
    "\n",
    "    # dynamic programming => O(nm^2) => O(n) (if m<<n)\n",
    "    for t in range(n):\n",
    "        for i in range(m):\n",
    "            j = observe_str.index(path[t])\n",
    "            if t == 0: # init\n",
    "                dp[t][i] = pi[i] * B[i][j]\n",
    "            else: # state transform\n",
    "                dp[t][i] = np.sum([dp[t-1][l]*P[l][i] for l in range(m)]) * B[i][j]\n",
    "    # return path probability\n",
    "    return np.sum([dp[-1][i] for i in range(m)])\n",
    "    \n",
    "path1 = ['大哭大闹','爬来爬去','大哭大闹','无精打采','爬来爬去'] # seems not likely\n",
    "path1_proba = forwardDP(path1)\n",
    "print(\"The path probability of {}\".format(path1),\" : {}\".format(path1_proba))\n",
    "\n",
    "path2 = ['大哭大闹','大哭大闹','大哭大闹','无精打采','无精打采'] # seems reasonable\n",
    "path2_proba = forwardDP(path2)\n",
    "print(\"The path probability of {}\".format(path2),\" : {}\".format(path2_proba))\n",
    "\n",
    "path3 = ['无精打采','无精打采','无精打采','无精打采','无精打采'] # seems quite reasonable as a sleeping baby\n",
    "path3_proba = forwardDP(path3)\n",
    "print(\"The path probability of {}\".format(path3),\" : {}\".format(path3_proba))"
   ]
  },
  {
   "cell_type": "code",
   "execution_count": null,
   "id": "descending-watershed",
   "metadata": {},
   "outputs": [],
   "source": []
  },
  {
   "cell_type": "markdown",
   "id": "northern-celtic",
   "metadata": {},
   "source": [
    "### 3. $Viterbi$ $\\mathrm{DP}$ $Algorithm$ $for$ $State$ $Decoding$"
   ]
  },
  {
   "cell_type": "markdown",
   "id": "independent-flour",
   "metadata": {},
   "source": [
    "$\\Rightarrow Background:当一个隐马尔科夫模型确定，即其参数\\theta = (P,B,\\pi)均已知时，计算某观测链(y_1,y_2,..,y_n)最有可能对应的状态链(x_1,x_2,..,x_n)$"
   ]
  },
  {
   "cell_type": "markdown",
   "id": "eight-original",
   "metadata": {},
   "source": [
    "$即寻找某观测链下，所能对应的最大路径概率状态链: \\mathrm{arg}\\max\\limits_{x_{1\\sim n}} P(x_{1\\sim n}|y_{1\\sim n},\\theta) = \\mathrm{arg}\\max\\limits_{x_{1\\sim n}} \\cfrac{P(x_{1\\sim n},y_{1\\sim n}|\\theta)}{P(y_{1\\sim n}|\\theta)} = \\mathrm{arg}\\max\\limits_{x_{1\\sim n}} P(x_{1\\sim n},y_{1\\sim n}|\\theta)$"
   ]
  },
  {
   "cell_type": "markdown",
   "id": "executed-monaco",
   "metadata": {},
   "source": [
    "$\\Rightarrow Algorithm:(思路完全同2的前向\\mathrm{DP}，仅将“求和”改成“求最大值”)$"
   ]
  },
  {
   "cell_type": "markdown",
   "id": "preceding-maine",
   "metadata": {},
   "source": [
    "$$\\begin{equation}\\begin{aligned}\n",
    "&① 令dp[t][i] = P(y_{1\\sim t},x_{1\\sim t-1},x_t=s_i|\\theta)，表示前t时刻观测链为y_{1\\sim t}、状态链为x_{1\\sim t}且t时刻隐状态为s_i的联合概率\\\\\n",
    "&\\quad\\quad\\quad\\quad\\quad 则最终答案为：\\{x_1,x_2,..,x_{t-1},x_t^*\\}, 其中： x_t^* = \\mathrm{arg}\\max\\limits_{i} dp[t][i]\\\\\n",
    "&② 由①，可得dp状态转移方程：dp[t+1][i] = \\max\\limits_{l:1\\rightarrow m} [dp[t][l]\\cdot P_{li}\\cdot B_{ij}] =[\\max\\limits_{l:1\\rightarrow m} dp[t][l]\\cdot P_{li}]\\cdot B_{ij}，其中y_{t+1} = h_j\\\\\n",
    "& \\Rightarrow其含义为：前t+1时刻观测序列为y_{1\\sim t+1}、状态链为x_{1\\sim t+1}且t+1时刻隐状态为s_{i}的最大概率，\\\\\n",
    "& \\quad\\quad\\quad\\quad\\quad等于前t时刻观测序列为y_{1\\sim t}、状态链为x_{1\\sim t}，且枚举t时刻为隐状态s_l的最大概率，\\\\\n",
    "& \\quad\\quad\\quad\\quad\\quad并由概率P_{li}转移至t+1时刻的隐状态s_{i}，再在概率B_{ij}下选中y_{t+1}的观测值h_j的概率中的最大者\\\\\n",
    "&③ 初始状态：dp[1][i] = P(y_1=h_j,x_1=s_i|\\theta) = \\pi_{i}\\cdot B_{ij}\\\\\n",
    "&\\Rightarrow 表示初始时刻，初始分布\\pi选中隐状态s_i，又在B_{ij}下选中观测值h_j的概率\n",
    "\\end{aligned}\\end{equation}\n",
    "$$"
   ]
  },
  {
   "cell_type": "code",
   "execution_count": 80,
   "id": "important-feature",
   "metadata": {},
   "outputs": [
    {
     "name": "stdout",
     "output_type": "stream",
     "text": [
      "The most likely hidden state chain of ['大哭大闹', '爬来爬去', '大哭大闹', '无精打采', '爬来爬去']  : \n",
      "['饿了', '困了', '饿了', '困了', '困了']\n",
      "The most likely hidden state chain of ['大哭大闹', '大哭大闹', '大哭大闹', '无精打采', '无精打采']  : \n",
      "['饿了', '饿了', '饿了', '困了', '困了']\n",
      "The most likely hidden state chain of ['无精打采', '无精打采', '无精打采', '无精打采', '无精打采']  : \n",
      "['饿了', '困了', '困了', '困了', '困了']\n"
     ]
    }
   ],
   "source": [
    "## the same example as 2: the baby daily life\n",
    "\n",
    "## state decoding using Viterbi dp algorithm\n",
    "def ViterbiDP(path):\n",
    "    dp = np.zeros((n,m)) # dp[t][i] = P(y1~yt,x1~xt-1,xt=si|θ), t∈{1,2,..,n}, i∈{1,2,..,m}\n",
    "    state_chain = [] # the most likely hidden state chain\n",
    "    \n",
    "    # dynamic programming => O(nm^2) => O(n) (if m<<n)\n",
    "    for t in range(n):\n",
    "        for i in range(m):\n",
    "            j = observe_str.index(path[t])\n",
    "            if t == 0: # init\n",
    "                dp[t][i] = pi[i] * B[i][j]\n",
    "            else: # state transform\n",
    "                dp[t][i] = np.max([dp[t-1][l]*P[l][i] for l in range(m)]) * B[i][j]\n",
    "        state_chain.append(np.argmax([dp[t][i] for i in range(m)]))\n",
    "    # return the most likely hidden state chain\n",
    "    return state_chain\n",
    "\n",
    "path1 = ['大哭大闹','爬来爬去','大哭大闹','无精打采','爬来爬去'] # seems unstable state\n",
    "state_chain1 = [state_str[s] for s in ViterbiDP(path1)]\n",
    "print(\"The most likely hidden state chain of {}\".format(path1),\" : \\n{}\".format(state_chain1))\n",
    "\n",
    "path2 = ['大哭大闹','大哭大闹','大哭大闹','无精打采','无精打采'] # seems hungry first and then sleepy\n",
    "state_chain2 = [state_str[s] for s in ViterbiDP(path2)]\n",
    "print(\"The most likely hidden state chain of {}\".format(path2),\" : \\n{}\".format(state_chain2))\n",
    "\n",
    "path3 = ['无精打采','无精打采','无精打采','无精打采','无精打采'] # seems always sleepy\n",
    "state_chain3 = [state_str[s] for s in ViterbiDP(path3)]\n",
    "print(\"The most likely hidden state chain of {}\".format(path3),\" : \\n{}\".format(state_chain3))"
   ]
  },
  {
   "cell_type": "code",
   "execution_count": null,
   "id": "pleased-arthritis",
   "metadata": {},
   "outputs": [],
   "source": []
  }
 ],
 "metadata": {
  "kernelspec": {
   "display_name": "Python 3 (ipykernel)",
   "language": "python",
   "name": "python3"
  },
  "language_info": {
   "codemirror_mode": {
    "name": "ipython",
    "version": 3
   },
   "file_extension": ".py",
   "mimetype": "text/x-python",
   "name": "python",
   "nbconvert_exporter": "python",
   "pygments_lexer": "ipython3",
   "version": "3.9.13"
  }
 },
 "nbformat": 4,
 "nbformat_minor": 5
}
