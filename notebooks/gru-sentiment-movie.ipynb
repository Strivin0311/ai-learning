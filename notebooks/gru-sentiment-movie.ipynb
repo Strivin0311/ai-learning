{
 "cells": [
  {
   "cell_type": "markdown",
   "id": "focused-pride",
   "metadata": {},
   "source": [
    "# Exp: use GRU to do sentimental analysis on movie reviews"
   ]
  },
  {
   "cell_type": "code",
   "execution_count": 2,
   "id": "higher-support",
   "metadata": {},
   "outputs": [],
   "source": [
    "import numpy as np\n",
    "import pandas as pd\n",
    "import matplotlib.pyplot as plt\n",
    "\n",
    "import torch\n",
    "from torch import nn\n",
    "from torch import optim\n",
    "import torch.nn.functional as F\n",
    "\n",
    "from torchvision import transforms\n",
    "from torchtext.legacy import data\n",
    "from torchtext.vocab import Vectors,GloVe\n",
    "\n",
    "import nltk\n",
    "from nltk.corpus import stopwords\n",
    "from nltk.tokenize import word_tokenize\n",
    "from nltk.stem import PorterStemmer\n",
    "\n",
    "import seaborn as sns\n",
    "import time\n",
    "import copy\n",
    "import os"
   ]
  },
  {
   "cell_type": "code",
   "execution_count": 3,
   "id": "suburban-source",
   "metadata": {},
   "outputs": [
    {
     "name": "stdout",
     "output_type": "stream",
     "text": [
      "showing info https://raw.githubusercontent.com/nltk/nltk_data/gh-pages/index.xml\n"
     ]
    },
    {
     "name": "stderr",
     "output_type": "stream",
     "text": [
      "[nltk_data] Error loading stopwords: <urlopen error [Errno 54]\n",
      "[nltk_data]     Connection reset by peer>\n",
      "[nltk_data] Error loading punkt: <urlopen error [Errno 54] Connection\n",
      "[nltk_data]     reset by peer>\n"
     ]
    },
    {
     "data": {
      "text/plain": [
       "False"
      ]
     },
     "execution_count": 3,
     "metadata": {},
     "output_type": "execute_result"
    }
   ],
   "source": [
    "nltk.download()\n",
    "nltk.download('stopwords')\n",
    "nltk.download('punkt')"
   ]
  },
  {
   "cell_type": "code",
   "execution_count": 4,
   "id": "destroyed-bullet",
   "metadata": {},
   "outputs": [],
   "source": [
    "## define text data load func\n",
    "def load_text_data(path):\n",
    "    text_data = []\n",
    "    label_list = []\n",
    "    for label in [\"pos\",\"neg\"]:\n",
    "        path_set = os.path.join(path,label)\n",
    "        path_list = os.listdir(path_set)\n",
    "        # read data and label\n",
    "        for fname in path_list:\n",
    "            if fname.endswith(\".txt\"):\n",
    "                filename = os.path.join(path_set,fname)\n",
    "                with open(filename) as f:\n",
    "                    text_data.append(f.read())\n",
    "            if label == \"pos\":\n",
    "                label_list.append(1)\n",
    "            else:\n",
    "                label_list.append(0)\n",
    "    return np.array(text_data),np.array(label_list)"
   ]
  },
  {
   "cell_type": "code",
   "execution_count": 5,
   "id": "concrete-classification",
   "metadata": {},
   "outputs": [],
   "source": [
    "## read text data\n",
    "train_path = \"./data/MovieReviews/train\"\n",
    "test_path = \"./data/MovieReviews/test\"\n",
    "\n",
    "train_text,train_label = load_text_data(train_path)\n",
    "test_text,test_label = load_text_data(test_path)"
   ]
  },
  {
   "cell_type": "code",
   "execution_count": 6,
   "id": "unexpected-richards",
   "metadata": {},
   "outputs": [
    {
     "data": {
      "text/plain": [
       "(25000,)"
      ]
     },
     "execution_count": 6,
     "metadata": {},
     "output_type": "execute_result"
    }
   ],
   "source": [
    "train_text.shape"
   ]
  },
  {
   "cell_type": "code",
   "execution_count": 7,
   "id": "stainless-voltage",
   "metadata": {},
   "outputs": [
    {
     "data": {
      "text/plain": [
       "(25000,)"
      ]
     },
     "execution_count": 7,
     "metadata": {},
     "output_type": "execute_result"
    }
   ],
   "source": [
    "train_label.shape"
   ]
  },
  {
   "cell_type": "code",
   "execution_count": 8,
   "id": "plastic-hospital",
   "metadata": {},
   "outputs": [],
   "source": [
    "## pre-process 1\n",
    "import re\n",
    "import string\n",
    "def text_preprocess(text_data):\n",
    "    text_pre = []\n",
    "    for t in text_data:\n",
    "        # rid of \"<br /br><br /br>\"\n",
    "        t = re.sub(\"<br /br><br /br>\",\" \",t)\n",
    "        # to lower case\n",
    "        t = t.lower()\n",
    "        t = re.sub(\"\\d+\",\"\",t)\n",
    "        # rid of punctuation\n",
    "        t = t.translate(str.maketrans(\"\",\"\",string.punctuation.replace(\"'\",\"\")))\n",
    "        # rid of redundent blank \n",
    "        t = t.strip()\n",
    "        text_pre.append(t)\n",
    "    return np.array(text_pre)\n",
    "        \n",
    "train_text_pre = text_preprocess(train_text)\n",
    "test_text_pre = text_preprocess(test_text)"
   ]
  },
  {
   "cell_type": "code",
   "execution_count": 9,
   "id": "contemporary-array",
   "metadata": {},
   "outputs": [],
   "source": [
    "stop_words = []\n",
    "with open(\"./data/MovieReviews/stopword.txt\") as f:\n",
    "    lines = f.readlines()\n",
    "    for line in lines:\n",
    "        stop_words.append(line.strip(\"\\n\"))\n",
    "stop_words = set(stop_words)"
   ]
  },
  {
   "cell_type": "code",
   "execution_count": 10,
   "id": "single-thousand",
   "metadata": {},
   "outputs": [
    {
     "name": "stderr",
     "output_type": "stream",
     "text": [
      "/opt/anaconda3/envs/python3-7/lib/python3.7/site-packages/ipykernel_launcher.py:13: VisibleDeprecationWarning: Creating an ndarray from ragged nested sequences (which is a list-or-tuple of lists-or-tuples-or ndarrays with different lengths or shapes) is deprecated. If you meant to do this, you must specify 'dtype=object' when creating the ndarray\n",
      "  del sys.path[0]\n"
     ]
    }
   ],
   "source": [
    "## pre-process 2\n",
    "def stop_stem_word(datalist,stop_words):\n",
    "    datalist_pre = []\n",
    "    for t in datalist:\n",
    "        # t_w = word_tokenize(t)\n",
    "        # rid of stop stem words\n",
    "        # t_w = [w for w in t if not w in stop_words]\n",
    "        # rid of \"'\"\n",
    "        t_w = [w for w in t.split() if len(re.findall(\"'\",w)) == 0]\n",
    "        datalist_pre.append(t_w)\n",
    "        # if len(re.findall(\"'\",t)) == 0:\n",
    "        #   datalist_pre.append(t)\n",
    "    return np.array(datalist_pre)\n",
    "\n",
    "train_text_pre_2 = stop_stem_word(train_text_pre,stop_words)\n",
    "test_text_pre_2 = stop_stem_word(test_text_pre,stop_words)"
   ]
  },
  {
   "cell_type": "code",
   "execution_count": 11,
   "id": "elder-laptop",
   "metadata": {},
   "outputs": [
    {
     "name": "stdout",
     "output_type": "stream",
     "text": [
      "sure it was cheesy and nonsensical and at times corny but at least the filmmakers didn't try while most tv movies border on the brink of mediocrity this film actually has some redeeming qualities to it the cinematography was pretty good for a tv film and viggo mortensen displays shades of aragorn in a film about a man who played by his own rules most of the flashback sequences were kind of cheesy but the scene with the mountain lion was intense i was kind of annoyed by jason priestly's role in the film as a rebellious shockjock but then again it's a tv movie despite all of the good things the soundtrack was atrocious however it was nice to see tucson arizona prominently featured in the film\n"
     ]
    }
   ],
   "source": [
    "print(train_text_pre[100])"
   ]
  },
  {
   "cell_type": "code",
   "execution_count": 12,
   "id": "graphic-giant",
   "metadata": {},
   "outputs": [
    {
     "name": "stdout",
     "output_type": "stream",
     "text": [
      "['sure', 'it', 'was', 'cheesy', 'and', 'nonsensical', 'and', 'at', 'times', 'corny', 'but', 'at', 'least', 'the', 'filmmakers', 'try', 'while', 'most', 'tv', 'movies', 'border', 'on', 'the', 'brink', 'of', 'mediocrity', 'this', 'film', 'actually', 'has', 'some', 'redeeming', 'qualities', 'to', 'it', 'the', 'cinematography', 'was', 'pretty', 'good', 'for', 'a', 'tv', 'film', 'and', 'viggo', 'mortensen', 'displays', 'shades', 'of', 'aragorn', 'in', 'a', 'film', 'about', 'a', 'man', 'who', 'played', 'by', 'his', 'own', 'rules', 'most', 'of', 'the', 'flashback', 'sequences', 'were', 'kind', 'of', 'cheesy', 'but', 'the', 'scene', 'with', 'the', 'mountain', 'lion', 'was', 'intense', 'i', 'was', 'kind', 'of', 'annoyed', 'by', 'jason', 'role', 'in', 'the', 'film', 'as', 'a', 'rebellious', 'shockjock', 'but', 'then', 'again', 'a', 'tv', 'movie', 'despite', 'all', 'of', 'the', 'good', 'things', 'the', 'soundtrack', 'was', 'atrocious', 'however', 'it', 'was', 'nice', 'to', 'see', 'tucson', 'arizona', 'prominently', 'featured', 'in', 'the', 'film']\n"
     ]
    }
   ],
   "source": [
    "print(train_text_pre_2[100])"
   ]
  },
  {
   "cell_type": "code",
   "execution_count": 13,
   "id": "endless-sociology",
   "metadata": {},
   "outputs": [],
   "source": [
    "## save the pre-processed text data\n",
    "texts = [\" \".join(words) for words in train_text_pre_2]\n",
    "train_data_df = pd.DataFrame({'text':texts,'label':train_label})\n",
    "texts = [\" \".join(words) for words in test_text_pre_2]\n",
    "test_data_df = pd.DataFrame({'text':texts,'label':test_label})\n",
    "\n",
    "train_data_df.to_csv(\"./data/MovieReviews/cleaned/train.csv\",index=False)\n",
    "test_data_df.to_csv(\"./data/MovieReviews/cleaned/test.csv\",index=False)"
   ]
  },
  {
   "cell_type": "code",
   "execution_count": 14,
   "id": "operational-sampling",
   "metadata": {},
   "outputs": [
    {
     "data": {
      "text/plain": [
       "Text(0, 0.5, 'freq')"
      ]
     },
     "execution_count": 14,
     "metadata": {},
     "output_type": "execute_result"
    },
    {
     "data": {
      "image/png": "[encoded data removed]",
      "text/plain": [
       "<Figure size 576x360 with 1 Axes>"
      ]
     },
     "metadata": {
      "needs_background": "light"
     },
     "output_type": "display_data"
    }
   ],
   "source": [
    "## plot the distribution of words' length\n",
    "train_word_num = [len(text) for text in train_text_pre_2]\n",
    "plt.figure(figsize=(8,5))\n",
    "plt.hist(train_word_num,bins = 100)\n",
    "plt.xlabel(\"word number\")\n",
    "plt.ylabel(\"freq\")"
   ]
  },
  {
   "cell_type": "code",
   "execution_count": 15,
   "id": "unsigned-ability",
   "metadata": {},
   "outputs": [],
   "source": [
    "closure = lambda x:x.split()\n",
    "\n",
    "TEXT = data.Field(\n",
    "    sequential=True,\n",
    "    tokenize = closure,\n",
    "    include_lengths = True,use_vocab = True,\n",
    "    batch_first = True,fix_length = 200\n",
    ")\n",
    "LABEL = data.Field(\n",
    "    sequential= False,\n",
    "    use_vocab = False,\n",
    "    pad_token = None,unk_token = None\n",
    ")"
   ]
  },
  {
   "cell_type": "code",
   "execution_count": 16,
   "id": "informal-amazon",
   "metadata": {},
   "outputs": [
    {
     "data": {
      "text/plain": [
       "(25000, 25000)"
      ]
     },
     "execution_count": 16,
     "metadata": {},
     "output_type": "execute_result"
    }
   ],
   "source": [
    "## read from cleaned data\n",
    "train_test_fields = [\n",
    "     (\"text\",TEXT),\n",
    "     (\"label\",LABEL),\n",
    "]\n",
    "\n",
    "traindata,testdata = data.TabularDataset.splits(\n",
    "    path = \"./data/MovieReviews/cleaned\",format=\"csv\",\n",
    "    train=\"train.csv\",fields = train_test_fields,\n",
    "    test=\"test.csv\",skip_header = True,\n",
    ")\n",
    "len(traindata),len(testdata)"
   ]
  },
  {
   "cell_type": "code",
   "execution_count": 17,
   "id": "protected-clone",
   "metadata": {},
   "outputs": [
    {
     "name": "stdout",
     "output_type": "stream",
     "text": [
      "1\n",
      "['stories', 'of', 'the', 'century', 'was', 'a', 'half', 'hour', 'series', 'and', 'appeared', 'in', 'first', 'run', 'syndication', 'during', 'the', 'television', 'season', 'it', 'was', 'also', 'the', 'first', 'western', 'tv', 'series', 'to', 'win', 'an', 'emmy', 'award', 'starring', 'veteran', 'western', 'actor', 'jim', 'davis', 'as', 'railroad', 'detective', 'matt', 'clark', 'the', 'series', 'set', 'clark', 'and', 'his', 'fellow', 'railroad', 'detective', 'partners', 'mary', 'castle', 'as', 'frankie', 'adams', 'for', 'the', 'first', 'half', 'of', 'the', 'season', 'and', 'kristine', 'miller', 'as', 'jonesy', 'during', 'the', 'second', 'halfagainst', 'historic', 'western', 'outlaws', 'of', 'various', 'periods', 'ranging', 'from', 'the', 'to', 'the', 'early', 'the', 'series', 'was', 'very', 'satisfying', 'easy', 'to', 'watch', 'and', 'fairly', 'realistic', 'due', 'mainly', 'to', 'the', 'easygoing', 'charm', 'of', 'jim', 'davis', 'in', 'the', 'lead', 'role', 'he', 'seemed', 'like', 'an', 'actual', 'western', 'character', 'one', 'other', 'note', 'when', 'matt', 'clark', 'would', 'arrive', 'in', 'town', 'after', 'a', 'long', 'ride', 'he', 'actually', 'looked', 'like', 'he', 'had', 'been', 'on', 'a', 'long', 'horse', 'ride', 'as', 'he', 'would', 'be', 'covered', 'in', 'dustbr', 'br', 'a', 'very', 'good', 'early', 'adult', 'western']\n"
     ]
    }
   ],
   "source": [
    "## print an example\n",
    "ex0 = traindata.examples[1110]\n",
    "print(ex0.label)\n",
    "print(ex0.text)"
   ]
  },
  {
   "cell_type": "code",
   "execution_count": 18,
   "id": "manufactured-earth",
   "metadata": {},
   "outputs": [
    {
     "data": {
      "text/plain": [
       "(17500, 7500, 25000)"
      ]
     },
     "execution_count": 18,
     "metadata": {},
     "output_type": "execute_result"
    }
   ],
   "source": [
    "train_data,val_data = traindata.split(split_ratio=0.7)\n",
    "test_data = testdata\n",
    "len(train_data),len(val_data),len(test_data)"
   ]
  },
  {
   "cell_type": "code",
   "execution_count": 19,
   "id": "romance-hollow",
   "metadata": {},
   "outputs": [],
   "source": [
    "## get words vector\n",
    "vec = Vectors(\"glove.6B.100d.txt\",\"./data/MovieReviews\")\n",
    "TEXT.build_vocab(train_data,max_size=20000,vectors=vec)\n",
    "LABEL.build_vocab(train_data)"
   ]
  },
  {
   "cell_type": "code",
   "execution_count": 20,
   "id": "retained-brazil",
   "metadata": {},
   "outputs": [
    {
     "name": "stdout",
     "output_type": "stream",
     "text": [
      "[('the', 235215), ('and', 114184), ('a', 113852), ('of', 101757), ('to', 94920), ('is', 75105), ('in', 65642), ('it', 54230), ('i', 53366), ('this', 52655)]\n",
      "num of vocab:  20002\n",
      "top 10 vocab:  ['<unk>', '<pad>', 'the', 'and', 'a', 'of', 'to', 'is', 'in', 'it']\n",
      "labels freq:  Counter({'1': 8792, '0': 8708})\n"
     ]
    }
   ],
   "source": [
    "## get examples from vocab\n",
    "print(TEXT.vocab.freqs.most_common(n=10))\n",
    "print(\"num of vocab: \",len(TEXT.vocab.itos))\n",
    "print(\"top 10 vocab: \",TEXT.vocab.itos[0:10])\n",
    "print(\"labels freq: \",LABEL.vocab.freqs)"
   ]
  },
  {
   "cell_type": "code",
   "execution_count": 21,
   "id": "choice-builder",
   "metadata": {},
   "outputs": [],
   "source": [
    "## define iterator\n",
    "BATCH_SIZE = 32\n",
    "train_iter = data.BucketIterator(train_data,batch_size=BATCH_SIZE)\n",
    "val_iter = data.BucketIterator(val_data,batch_size=BATCH_SIZE)\n",
    "test_iter = data.BucketIterator(test_data,batch_size=BATCH_SIZE)"
   ]
  },
  {
   "cell_type": "code",
   "execution_count": 22,
   "id": "green-anger",
   "metadata": {},
   "outputs": [],
   "source": [
    "## create GRU net\n",
    "class GRUNet(nn.Module):\n",
    "    def __init__(self,vocab_size,embedding_dim,hidden_dim,layer_dim,output_dim):\n",
    "        super(GRUNet,self).__init__()\n",
    "        self.hidden_dim = hidden_dim\n",
    "        self.layer_dim = layer_dim\n",
    "        # vocab process\n",
    "        self.embedding = nn.Embedding(vocab_size,embedding_dim)\n",
    "        # GRU\n",
    "        self.gru = nn.GRU(embedding_dim,hidden_dim,layer_dim,batch_first=True)\n",
    "        # full connection\n",
    "        self.fc = nn.Sequential(\n",
    "            nn.Linear(hidden_dim,hidden_dim),\n",
    "            torch.nn.Dropout(0.5),\n",
    "            torch.nn.ReLU(),\n",
    "            nn.Linear(hidden_dim,output_dim)\n",
    "        )\n",
    "    \n",
    "    def forward(self,x):\n",
    "        embeds = self.embedding(x)\n",
    "        # r_out: [batch,time_step,output_size]\n",
    "        # h_n: [n_layers,batch,hidden_size]\n",
    "        r_out,h_n = self.gru(embeds,None)\n",
    "        output = self.fc(r_out[:,-1,:]) # put in the latest r_out\n",
    "        return output"
   ]
  },
  {
   "cell_type": "code",
   "execution_count": 23,
   "id": "equivalent-trailer",
   "metadata": {},
   "outputs": [
    {
     "data": {
      "text/plain": [
       "GRUNet(\n",
       "  (embedding): Embedding(20002, 100)\n",
       "  (gru): GRU(100, 128, batch_first=True)\n",
       "  (fc): Sequential(\n",
       "    (0): Linear(in_features=128, out_features=128, bias=True)\n",
       "    (1): Dropout(p=0.5, inplace=False)\n",
       "    (2): ReLU()\n",
       "    (3): Linear(in_features=128, out_features=2, bias=True)\n",
       "  )\n",
       ")"
      ]
     },
     "execution_count": 23,
     "metadata": {},
     "output_type": "execute_result"
    }
   ],
   "source": [
    "## init net\n",
    "vocab_size = len(TEXT.vocab)\n",
    "embedding_dim = vec.dim\n",
    "hidden_dim = 128\n",
    "layer_dim = 1\n",
    "output_dim = 2\n",
    "\n",
    "gruNet = GRUNet(vocab_size,embedding_dim,hidden_dim,layer_dim,output_dim)\n",
    "gruNet"
   ]
  },
  {
   "cell_type": "code",
   "execution_count": 24,
   "id": "generous-pasta",
   "metadata": {},
   "outputs": [],
   "source": [
    "## copy vocab\n",
    "gruNet.embedding.weight.data.copy_(TEXT.vocab.vectors)\n",
    "# unk and pad's weight to zero\n",
    "UNK_IDX = TEXT.vocab.stoi[TEXT.unk_token]\n",
    "PAD_IDX = TEXT.vocab.stoi[TEXT.pad_token]\n",
    "gruNet.embedding.weight.data[UNK_IDX] = torch.zeros(vec.dim)\n",
    "gruNet.embedding.weight.data[PAD_IDX] = torch.zeros(vec.dim)"
   ]
  },
  {
   "cell_type": "code",
   "execution_count": 25,
   "id": "promotional-twenty",
   "metadata": {},
   "outputs": [],
   "source": [
    "## train\n",
    "def train(model,train_loader,test_loader,loss_func,optimizer,num_epochs=25):\n",
    "    train_loss_all = []\n",
    "    train_acc_all = []\n",
    "    test_loss_all = []\n",
    "    test_acc_all = []\n",
    "    learn_rate = []\n",
    "    sinc = time.time()\n",
    "    scheduler = optim.lr_scheduler.StepLR(optimizer,step_size=5,gamma = 0.1)\n",
    "    \n",
    "    for epoch in range(num_epochs):\n",
    "        learn_rate.append(scheduler.get_last_lr()[0])\n",
    "        print('-',10)\n",
    "        print('Epoch {}/{}'.format(epoch+1,num_epochs,learn_rate[-1]))\n",
    "        # train mode\n",
    "        train_loss = 0.0\n",
    "        train_corrects = 0\n",
    "        train_num = 0\n",
    "        model.train()\n",
    "        for step,batch in enumerate(train_loader):\n",
    "            text,target = batch.text[0],batch.label\n",
    "            output = model(text)\n",
    "            pre_lab = torch.argmax(output,1)\n",
    "            loss = loss_func(output,target)\n",
    "            optimizer.zero_grad()\n",
    "            loss.backward()\n",
    "            optimizer.step()\n",
    "            \n",
    "            train_loss += loss.item() * len(target)\n",
    "            train_corrects += torch.sum(pre_lab == target.data)\n",
    "            train_num += len(target)\n",
    "        # get train loss and acc\n",
    "        train_loss_all.append(train_loss / train_num)\n",
    "        train_acc_all.append(train_corrects.double().item() / train_num)\n",
    "        print('train loss: {:.4f} train acc: {:.4f}'.format(train_loss_all[-1],train_acc_all[-1]))\n",
    "        scheduler.step() # update learning rate\n",
    "        # test mode\n",
    "        test_loss = 0.0\n",
    "        test_corrects = 0\n",
    "        test_num = 0\n",
    "        model.eval()\n",
    "        for step,batch in enumerate(test_loader):\n",
    "            text,target = batch.text[0],batch.label\n",
    "            output = model(text)\n",
    "            pre_lab = torch.argmax(output,1)\n",
    "            loss = loss_func(output,target)\n",
    "            \n",
    "            test_loss += loss.item() * len(target)\n",
    "            test_corrects += torch.sum(pre_lab == target.data)\n",
    "            test_num += len(target)\n",
    "         # get test loss and acc\n",
    "        test_loss_all.append(test_loss / test_num)\n",
    "        test_acc_all.append(test_corrects.double().item() / test_num)\n",
    "        print('test loss: {:.4f} test acc: {:.4f}'.format(test_loss_all[-1],test_acc_all[-1]))   \n",
    "    \n",
    "    train_process = pd.DataFrame(\n",
    "        data = {\n",
    "            \"epoch\":range(num_epochs),\n",
    "            \"train_loss_all\":train_loss_all,\n",
    "            \"train_acc_all\":train_acc_all,\n",
    "            \"test_loss_all\":test_loss_all,\n",
    "            \"test_acc_all\":test_acc_all,\n",
    "            \"learn_rate\":learn_rate\n",
    "        }\n",
    "    )\n",
    "    return model,train_process"
   ]
  },
  {
   "cell_type": "code",
   "execution_count": 26,
   "id": "judicial-warren",
   "metadata": {},
   "outputs": [],
   "source": [
    "## define optimizer and loss func\n",
    "optimizer = optim.RMSprop(gruNet.parameters(),lr = 0.003)\n",
    "loss_func = nn.CrossEntropyLoss()"
   ]
  },
  {
   "cell_type": "code",
   "execution_count": 27,
   "id": "facial-queue",
   "metadata": {},
   "outputs": [
    {
     "name": "stdout",
     "output_type": "stream",
     "text": [
      "- 10\n",
      "Epoch 1/10\n",
      "train loss: 0.7020 train acc: 0.4975\n",
      "test loss: 0.6931 test acc: 0.5000\n",
      "- 10\n",
      "Epoch 2/10\n",
      "train loss: 0.5318 train acc: 0.7002\n",
      "test loss: 0.3297 test acc: 0.8599\n",
      "- 10\n",
      "Epoch 3/10\n",
      "train loss: 0.2380 train acc: 0.9087\n",
      "test loss: 0.3573 test acc: 0.8629\n",
      "- 10\n",
      "Epoch 4/10\n",
      "train loss: 0.1121 train acc: 0.9602\n",
      "test loss: 0.5223 test acc: 0.8456\n",
      "- 10\n",
      "Epoch 5/10\n",
      "train loss: 0.0370 train acc: 0.9881\n",
      "test loss: 0.8680 test acc: 0.8390\n",
      "- 10\n",
      "Epoch 6/10\n",
      "train loss: 0.0065 train acc: 0.9981\n",
      "test loss: 1.1070 test acc: 0.8389\n",
      "- 10\n",
      "Epoch 7/10\n",
      "train loss: 0.0020 train acc: 0.9996\n",
      "test loss: 1.4500 test acc: 0.8348\n",
      "- 10\n",
      "Epoch 8/10\n",
      "train loss: 0.0012 train acc: 0.9999\n",
      "test loss: 1.6752 test acc: 0.8337\n",
      "- 10\n",
      "Epoch 9/10\n",
      "train loss: 0.0004 train acc: 0.9999\n",
      "test loss: 1.9736 test acc: 0.8360\n",
      "- 10\n",
      "Epoch 10/10\n",
      "train loss: 0.0004 train acc: 0.9999\n",
      "test loss: 2.3178 test acc: 0.8353\n"
     ]
    }
   ],
   "source": [
    "## training\n",
    "gruNet,train_process = train(gruNet,train_iter,test_iter,loss_func,optimizer,10)"
   ]
  },
  {
   "cell_type": "code",
   "execution_count": 28,
   "id": "ahead-adoption",
   "metadata": {},
   "outputs": [
    {
     "data": {
      "image/png": "[encoded data removed]",
      "text/plain": [
       "<Figure size 1296x432 with 2 Axes>"
      ]
     },
     "metadata": {
      "needs_background": "light"
     },
     "output_type": "display_data"
    }
   ],
   "source": [
    "## show the process\n",
    "plt.figure(figsize=(18,6))\n",
    "# loss\n",
    "plt.subplot(1,2,1)\n",
    "plt.plot(train_process.epoch,train_process.train_loss_all,\"r.-\",label = \"train loss\")\n",
    "plt.plot(train_process.epoch,train_process.test_loss_all,\"bs-\",label = \"test loss\")\n",
    "plt.legend()\n",
    "plt.xlabel(\"epoch\")\n",
    "plt.ylabel(\"loss\")\n",
    "# acc\n",
    "plt.subplot(1,2,2)\n",
    "plt.plot(train_process.epoch,train_process.train_acc_all,\"r.-\",label = \"train acc\")\n",
    "plt.plot(train_process.epoch,train_process.test_acc_all,\"bs-\",label = \"test acc\")\n",
    "plt.legend()\n",
    "plt.xlabel(\"epoch\")\n",
    "plt.ylabel(\"acc\")\n",
    "\n",
    "plt.show()"
   ]
  },
  {
   "cell_type": "code",
   "execution_count": null,
   "id": "academic-brand",
   "metadata": {},
   "outputs": [],
   "source": []
  }
 ],
 "metadata": {
  "kernelspec": {
   "display_name": "Python 3",
   "language": "python",
   "name": "python3"
  },
  "language_info": {
   "codemirror_mode": {
    "name": "ipython",
    "version": 3
   },
   "file_extension": ".py",
   "mimetype": "text/x-python",
   "name": "python",
   "nbconvert_exporter": "python",
   "pygments_lexer": "ipython3",
   "version": "3.8.3"
  }
 },
 "nbformat": 4,
 "nbformat_minor": 5
}
