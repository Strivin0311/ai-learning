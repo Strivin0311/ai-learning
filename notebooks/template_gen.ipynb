{
 "cells": [
  {
   "cell_type": "code",
   "execution_count": 41,
   "metadata": {},
   "outputs": [],
   "source": [
    "import pyperclip\n",
    "import requests\n",
    "from bs4 import BeautifulSoup\n",
    "\n",
    "from selenium import webdriver\n",
    "from selenium.webdriver.common.by import By\n",
    "from selenium.webdriver.support.ui import WebDriverWait\n",
    "from selenium.webdriver.support import expected_conditions as EC\n",
    "from selenium.webdriver.chrome.options import Options"
   ]
  },
  {
   "cell_type": "code",
   "execution_count": 44,
   "metadata": {},
   "outputs": [],
   "source": [
    "def get_bibtex(scholar_url):\n",
    "    \n",
    "    # import chromedriver_autoinstaller \n",
    "\n",
    "    # chromedriver_autoinstaller.install()\n",
    "\n",
    "    # Replace this URL with your Google Scholar page link\n",
    "    # scholar_url = \"https://scholar.google.com/scholar?hl=en&as_sdt=0%2C5&q=Solving+large-scale+multiobjective+optimization+problems+with+sparse+optimal+solutions+via+unsupervised+neural+networks&btnG=\"\n",
    "\n",
    "    # Path to the WebDriver executable (replace with your WebDriver path)\n",
    "    # webdriver_path = \"/usr/local/bin/chromedriver\"\n",
    "\n",
    "    # Initialize the Chrome WebDriver\n",
    "    # options = webdriver.ChromeOptions()\n",
    "    # options.add_argument(\"--headless\")  # Run Chrome in headless mode (no GUI)\n",
    "\n",
    "    option = Options()\n",
    "    option.add_argument('--headless')\n",
    "    driver = webdriver.Chrome(options=option)\n",
    "\n",
    "    bibtex_content = \"\"\n",
    "\n",
    "    try:\n",
    "        # Open the Google Scholar page\n",
    "        driver.get(scholar_url)\n",
    "\n",
    "        # Locate the \"Cite\" button using its text content\n",
    "        cite_button = driver.find_element(By.CSS_SELECTOR, \"a.gs_or_cit.gs_or_btn.gs_nph\")\n",
    "\n",
    "        # Click the \"Cite\" button to reveal the citation options\n",
    "        cite_button.click()\n",
    "        wait = WebDriverWait(driver, 10)\n",
    "        bibtex_a = wait.until(EC.visibility_of_all_elements_located((By.LINK_TEXT, 'BibTeX')))[0]\n",
    "\n",
    "        # Locate the \"BibTeX\" option using its text content\n",
    "        # bibtex_option = driver.find_element_by_xpath(\"//a[contains(text(), 'BibTeX')]\")\n",
    "        bibtex_link = bibtex_a.get_attribute('href')\n",
    "        driver.get(bibtex_link)\n",
    "        bibtex_content = driver.find_element(By.CSS_SELECTOR, 'pre').text\n",
    "        # print(bibtex_content)\n",
    "    finally:\n",
    "        # Close the WebDriver\n",
    "        driver.quit()\n",
    "        return bibtex_content"
   ]
  },
  {
   "cell_type": "markdown",
   "metadata": {},
   "source": [
    "#### generate the file title"
   ]
  },
  {
   "cell_type": "code",
   "execution_count": 71,
   "metadata": {},
   "outputs": [],
   "source": [
    "def gen_fil_title(pr=True):\n",
    "    title = input()\n",
    "\n",
    "    title_template = f\"\"\"# {title}\n",
    "*Here's some resources about {title}*\"\"\"\n",
    "    if pr:\n",
    "        print(title_template)\n",
    "        pyperclip.copy(title_template)\n",
    "        return\n",
    "\n",
    "    return title_template"
   ]
  },
  {
   "cell_type": "code",
   "execution_count": 78,
   "metadata": {},
   "outputs": [
    {
     "name": "stdout",
     "output_type": "stream",
     "text": [
      "# Swarm Evolution\n",
      "*Here's some resources about Swarm Evolution*\n"
     ]
    }
   ],
   "source": [
    "gen_fil_title()"
   ]
  },
  {
   "cell_type": "markdown",
   "metadata": {},
   "source": [
    "#### generate the resource title"
   ]
  },
  {
   "cell_type": "code",
   "execution_count": 72,
   "metadata": {},
   "outputs": [],
   "source": [
    "def gen_resource_title(pr=True):\n",
    "    resource_title = input(\"title: \")\n",
    "    read_tag = input(\"Have you read it? (yes/no, default no)\")\n",
    "    if read_tag.lower() == \"no\" or read_tag.lower() == \"\":\n",
    "        read_tag = \"UNREAD\"\n",
    "    elif read_tag.lower() == \"yes\":\n",
    "        read_tag = \"READ\"\n",
    "    else:\n",
    "        read_tag = \"UNKNOWN\"\n",
    "    resource_template = f\"#### {resource_title} [`{read_tag}`]\"\n",
    "\n",
    "    if pr:\n",
    "        print(resource_template)\n",
    "        pyperclip.copy(resource_template)\n",
    "        return\n",
    "\n",
    "    return resource_template"
   ]
  },
  {
   "cell_type": "code",
   "execution_count": 83,
   "metadata": {},
   "outputs": [
    {
     "name": "stdout",
     "output_type": "stream",
     "text": [
      "#### Essentials of Metaheuristics [`UNREAD`]\n"
     ]
    }
   ],
   "source": [
    "gen_resource_title()"
   ]
  },
  {
   "cell_type": "markdown",
   "metadata": {},
   "source": [
    "#### generate the book link with extraction code(baidu cloud disk)"
   ]
  },
  {
   "cell_type": "code",
   "execution_count": 73,
   "metadata": {},
   "outputs": [],
   "source": [
    "# s = \"链接: https://pan.baidu.com/s/1DeAIAIR_oUW9zLiX6eYc4A 提取码: e83d \\n--来自百度网盘超级会员v2的分享\"\n",
    "\n",
    "def gen_baidu_cloud_link(pr=True):\n",
    "    s = input()\n",
    "\n",
    "    link = s.split(': ')[1].split()[0]\n",
    "    ext_code = s.split(': ')[2].split()[0]\n",
    "    template = f\"book link: [here]({link}), with extraction code: `{ext_code}`\"\n",
    "    \n",
    "    if pr:\n",
    "        print(template)\n",
    "        pyperclip.copy(template)\n",
    "        return\n",
    "\n",
    "    return template"
   ]
  },
  {
   "cell_type": "code",
   "execution_count": 84,
   "metadata": {},
   "outputs": [
    {
     "name": "stdout",
     "output_type": "stream",
     "text": [
      "book link: [here](https://pan.baidu.com/s/1TU86xXOwPgG8nE98I_uudA), with extraction code: `ce8j`\n"
     ]
    }
   ],
   "source": [
    "gen_baidu_cloud_link()"
   ]
  },
  {
   "cell_type": "markdown",
   "metadata": {},
   "source": [
    "#### generate the paper link"
   ]
  },
  {
   "cell_type": "code",
   "execution_count": 74,
   "metadata": {},
   "outputs": [],
   "source": [
    "def gen_paper_link(pr=True):\n",
    "    paper_link = input(\"link: \")\n",
    "    citation = input(\"citation: \")\n",
    "\n",
    "    if citation == \"\":\n",
    "        google_scholar_link = input(\"google scholar link: \")\n",
    "        if google_scholar_link != \"\":\n",
    "            citation = get_bibtex(google_scholar_link)\n",
    "\n",
    "    paper_template = f\"\"\"\n",
    "paper link: [here]({paper_link})\n",
    "\n",
    "citation: \n",
    "```bibtex\n",
    "{citation}\n",
    "```\n",
    "    \"\"\"\n",
    "    if pr:\n",
    "        print(paper_template)\n",
    "        pyperclip.copy(paper_template)\n",
    "        return\n",
    "\n",
    "    return paper_template"
   ]
  },
  {
   "cell_type": "code",
   "execution_count": null,
   "metadata": {},
   "outputs": [],
   "source": [
    "gen_paper_link()"
   ]
  },
  {
   "cell_type": "markdown",
   "metadata": {},
   "source": [
    "#### generate the notebook link"
   ]
  },
  {
   "cell_type": "code",
   "execution_count": 75,
   "metadata": {},
   "outputs": [],
   "source": [
    "def gen_notebooke_link(pr=True):\n",
    "    notebook_file = input(\"filename: \")\n",
    "    notebook_theme = input(\"theme: \")\n",
    "    notebook_template = f\"here's a notebook about `{notebook_theme}`, including its formula and visualization: [here](../../notebooks/{notebook_file}.ipynb)\"\n",
    "    if pr:\n",
    "        print(notebook_template)\n",
    "        pyperclip.copy(notebook_template)\n",
    "        return\n",
    "\n",
    "    return notebook_template"
   ]
  },
  {
   "cell_type": "code",
   "execution_count": null,
   "metadata": {},
   "outputs": [],
   "source": [
    "gen_notebooke_link()"
   ]
  },
  {
   "cell_type": "markdown",
   "metadata": {},
   "source": [
    "#### generate the main interested field note"
   ]
  },
  {
   "cell_type": "code",
   "execution_count": 76,
   "metadata": {},
   "outputs": [],
   "source": [
    "def gen_main_interested_field(pr=True):\n",
    "    repo_link = input(\"repo link: \")\n",
    "    repo_template = f\"*Since this is one of the author's `main interested fields`, you may refer to another individual repo for this tech: [here]({repo_link})*\"\n",
    "    if pr:\n",
    "        print(repo_template)\n",
    "        pyperclip.copy(repo_template)\n",
    "        return\n",
    "\n",
    "    return repo_template"
   ]
  },
  {
   "cell_type": "code",
   "execution_count": null,
   "metadata": {},
   "outputs": [],
   "source": [
    "gen_main_interested_field()"
   ]
  },
  {
   "cell_type": "markdown",
   "metadata": {},
   "source": [
    "#### generate a paper resource pipeline"
   ]
  },
  {
   "cell_type": "code",
   "execution_count": 77,
   "metadata": {},
   "outputs": [],
   "source": [
    "def gen_paper_resource_pipeline(pr=True):\n",
    "    resource_title = gen_resource_title(pr=False)\n",
    "    paper_link = gen_paper_link(pr=False)\n",
    "    pipe = resource_title + \"\\n\" + paper_link\n",
    "    if pr:\n",
    "        print(pr)\n",
    "        pyperclip.copy(pipe)\n",
    "        return\n",
    "\n",
    "    return pipe"
   ]
  },
  {
   "cell_type": "code",
   "execution_count": 68,
   "metadata": {},
   "outputs": [
    {
     "name": "stdout",
     "output_type": "stream",
     "text": [
      "True\n"
     ]
    }
   ],
   "source": [
    "gen_paper_resource_pipeline()"
   ]
  },
  {
   "cell_type": "code",
   "execution_count": null,
   "metadata": {},
   "outputs": [],
   "source": []
  }
 ],
 "metadata": {
  "kernelspec": {
   "display_name": "Python 3",
   "language": "python",
   "name": "python3"
  },
  "language_info": {
   "codemirror_mode": {
    "name": "ipython",
    "version": 3
   },
   "file_extension": ".py",
   "mimetype": "text/x-python",
   "name": "python",
   "nbconvert_exporter": "python",
   "pygments_lexer": "ipython3",
   "version": "3.9.13"
  },
  "orig_nbformat": 4
 },
 "nbformat": 4,
 "nbformat_minor": 2
}
