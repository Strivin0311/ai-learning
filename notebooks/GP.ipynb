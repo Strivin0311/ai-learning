{
 "cells": [
  {
   "cell_type": "markdown",
   "id": "interim-playback",
   "metadata": {},
   "source": [
    "## 一、高斯过程"
   ]
  },
  {
   "cell_type": "markdown",
   "id": "included-jerusalem",
   "metadata": {},
   "source": [
    "### 1. $Gaussian$ $Process$"
   ]
  },
  {
   "cell_type": "markdown",
   "id": "handled-prefix",
   "metadata": {},
   "source": [
    "$\\Rightarrow Definition:$"
   ]
  },
  {
   "cell_type": "markdown",
   "id": "assured-completion",
   "metadata": {},
   "source": [
    "$对于一个连续的时间域T，在其上任选n个时刻t_1,t_2,..,t_n \\in T，若得到的随机向量(X_1,X_2,..,X_n)服从n元高斯分布N_n(\\vec\\mu,\\Sigma)，则称该随机过程为高斯过程$"
   ]
  },
  {
   "cell_type": "markdown",
   "id": "signed-speaking",
   "metadata": {},
   "source": [
    "$\\Rightarrow Properties:$"
   ]
  },
  {
   "cell_type": "markdown",
   "id": "laden-asset",
   "metadata": {},
   "source": [
    "$$\\begin{equation}\\begin{aligned}\n",
    "&① 每个时刻对应的随机变量X_t均服从其对应的高斯分布N(\\mu_t,\\sigma_t^2)\\\\\n",
    "&② 高斯过程本质上得到的是一个时间域上无限维的随机变量X_{\\infty}，服从无限元高斯分布N_{\\infty}(\\vec\\mu,\\Sigma)\\\\\n",
    "&③ 由于时间域的连续性，均值向量\\vec\\mu和协方差矩阵\\Sigma均以时刻t的连续函数表示：\\\\\n",
    "&\\quad\\quad \\vec\\mu = \\mu(\\vec t), \\Sigma_k(\\vec t) = \\left[k(t_i,t_j)\\right] = \\left[\\sigma^2\\cdot \\exp{\\left(-\\cfrac{\\left\\|t_i-t_j\\right\\|^2}{2r^2}\\right)}\\right],\\forall i,j \\in \\{1,2,..\\}\\\\\n",
    "& \\Rightarrow k(t_i,t_j)是协方差矩阵的核函数，通常选用如上所示的径向基函数(\\mathrm{RBF})，其中\\sigma,r都是其超参数\n",
    "\\end{aligned}\\end{equation}\n",
    "$$"
   ]
  },
  {
   "cell_type": "code",
   "execution_count": 86,
   "id": "accepting-activation",
   "metadata": {},
   "outputs": [
    {
     "data": {
      "text/plain": [
       "array([[1.00000000e+00, 1.35335283e-01, 1.52299797e-08, 1.26641655e-14],\n",
       "       [1.35335283e-01, 1.00000000e+00, 3.35462628e-04, 1.52299797e-08],\n",
       "       [1.52299797e-08, 3.35462628e-04, 1.00000000e+00, 1.35335283e-01],\n",
       "       [1.26641655e-14, 1.52299797e-08, 1.35335283e-01, 1.00000000e+00]])"
      ]
     },
     "execution_count": 86,
     "metadata": {},
     "output_type": "execute_result"
    }
   ],
   "source": [
    "## RBF gaussian kernel\n",
    "import numpy as np\n",
    "\n",
    "def RBF_kernel(T1,T2,sigma=1.0,r=1.0):\n",
    "    \n",
    "    def RBF(t1,t2,sigma=1.0,r=1.0):\n",
    "        return sigma**2 * np.exp(\n",
    "            -(t1-t2)**2/2*r**2\n",
    "        )\n",
    "    m = T1.shape[0]\n",
    "    n = T2.shape[0]\n",
    "    Sigma = np.zeros((m,n),dtype=np.float)\n",
    "    for i in range(m):\n",
    "        for j in range(n):\n",
    "            Sigma[i][j] = RBF(T1[i],T2[j])\n",
    "    return Sigma\n",
    "\n",
    "T = np.array([1,3,7,9])\n",
    "Sigma = RBF_kernel(T,T)\n",
    "Sigma  "
   ]
  },
  {
   "cell_type": "markdown",
   "id": "increased-tuition",
   "metadata": {},
   "source": [
    "### 2. $Gaussian$ $Process$ $Regression$"
   ]
  },
  {
   "cell_type": "markdown",
   "id": "fatty-rescue",
   "metadata": {},
   "source": [
    "$\\Rightarrow Background: 给定一个高斯过程的n个时刻t_1,t_2,..,t_n的观测值y_1,y_2,..,y_n，回归这个高斯过程的分布N(\\mu(\\vec t),\\Sigma(\\vec t))$"
   ]
  },
  {
   "cell_type": "markdown",
   "id": "naval-rocket",
   "metadata": {},
   "source": [
    "$\\Rightarrow Method:$"
   ]
  },
  {
   "cell_type": "markdown",
   "id": "imperial-vancouver",
   "metadata": {},
   "source": [
    "$$\\begin{equation}\\begin{aligned}\n",
    "& ① 设n个时刻对应的随机向量为X，观测值对应的随机向量为Y，剩余非观测时刻对应的随机向量为\\tilde{X}\\\\\n",
    "& ② 易知X和X^*均服从高斯分布，且联合随机向量(X,\\tilde{X})\\sim N(\\mu(\\vec t),\\Sigma_k(\\vec t))\\\\\n",
    "& ③ 又由高斯分布的条件分布公式：X^* = \\tilde{X}|X\\sim N(\\vec\\mu^*,\\Sigma^*)，其中：\\\\\n",
    "& \\quad\\quad\\quad\\quad \\vec\\mu^* = \\mu(\\tilde{X})+k(\\tilde{X},X)k(X,X)^{-1}(Y-\\mu(X)), \\;\\Sigma^*=k(\\tilde{X},\\tilde{X}) - k(\\tilde{X},X)k(X,X)^{-1}k(X,\\tilde{X})\\\\\n",
    "& ④ 因此，首先先验设置高斯过程的参数：\\mu(\\vec t) = \\vec 0和核函数k(t_i,t_j|\\sigma,r)的超参，\\\\\n",
    "& 再根据观测值与③中条件分布公式，得到非观测值的后验高斯过程的参数，以此回归总体高斯过程\n",
    "\\end{aligned}\\end{equation}\n",
    "$$"
   ]
  },
  {
   "cell_type": "code",
   "execution_count": 90,
   "id": "bottom-wheel",
   "metadata": {},
   "outputs": [],
   "source": [
    "## GP Regression\n",
    "import matplotlib.pyplot as plt\n",
    "\n",
    "def getY(X): # Y = sin(X) + gaussian_noise\n",
    "    Y = 0.4*np.sin(X) + np.random.normal(0,0.05,size=X.shape)\n",
    "    return Y\n",
    "\n",
    "def update(X,Xt,Y):\n",
    "    # RBF kernels\n",
    "    k_XX_inv = np.linalg.inv(RBF_kernel(X,X)+1e-8*np.eye(len(X))) # k(X,X)^-1\n",
    "    k_XtXt = RBF_kernel(Xt,Xt) # k(Xtilde,Xtilde)\n",
    "    k_XtX = RBF_kernel(Xt,X) # k(Xtilde,X)\n",
    "    k_XXt = k_XtX.T # k(X,Xtilde)\n",
    "    # update mu and Sigma of non-observation time points to estimate the whole GP\n",
    "    mu_star = 0 + k_XtX.dot(k_XX_inv).dot(Y-0)\n",
    "    Sigma_star = k_XtXt - k_XtX.dot(k_XX_inv).dot(k_XXt)\n",
    "    \n",
    "    return mu_star,Sigma_star"
   ]
  },
  {
   "cell_type": "code",
   "execution_count": 101,
   "id": "multiple-trauma",
   "metadata": {
    "scrolled": true
   },
   "outputs": [
    {
     "data": {
      "image/png": "[encoded data removed]",
      "text/plain": [
       "<Figure size 432x288 with 2 Axes>"
      ]
     },
     "metadata": {
      "needs_background": "light"
     },
     "output_type": "display_data"
    }
   ],
   "source": [
    "# init the priori setting\n",
    "f,ax = plt.subplots(2,1,sharex=True,sharey=True)\n",
    "X_pre = np.arange(0,10,0.1)\n",
    "mu_pre = np.zeros((len(X_pre),))\n",
    "Sigma_pre = RBF_kernel(X_pre,X_pre)\n",
    "conf_interval = 1.96 * np.sqrt(np.diag(Sigma_pre)) # 95% confidence interval\n",
    "\n",
    "ax[0].fill_between(X_pre,mu_pre+conf_interval,mu_pre-conf_interval,alpha=0.1)\n",
    "ax[0].plot(X_pre,Y_pre,label=\"expectation\")\n",
    "ax[0].set_title('priori')\n",
    "ax[0].legend()\n",
    "\n",
    "# get the posteriori setting\n",
    "X = np.array([1,3,7,9]) # observation time point\n",
    "Y = getY(X)\n",
    "Xt = X_pre # non-observation time point\n",
    "mu_star,Sigma_star = update(X,Xt,Y)\n",
    "conf_interval = 1.96 * np.sqrt(np.diag(Sigma_star))\n",
    "\n",
    "ax[1].fill_between(Xt,mu_star+conf_interval,mu_star-conf_interval,alpha=0.1)\n",
    "ax[1].scatter(X,Y,label=\"observation\",c='r',marker='x')\n",
    "ax[1].set_title('posteriori')\n",
    "ax[1].legend()\n",
    "plt.show()"
   ]
  },
  {
   "cell_type": "code",
   "execution_count": null,
   "id": "740d1bde",
   "metadata": {},
   "outputs": [],
   "source": []
  }
 ],
 "metadata": {
  "kernelspec": {
   "display_name": "Python 3 (ipykernel)",
   "language": "python",
   "name": "python3"
  },
  "language_info": {
   "codemirror_mode": {
    "name": "ipython",
    "version": 3
   },
   "file_extension": ".py",
   "mimetype": "text/x-python",
   "name": "python",
   "nbconvert_exporter": "python",
   "pygments_lexer": "ipython3",
   "version": "3.9.13"
  }
 },
 "nbformat": 4,
 "nbformat_minor": 5
}
