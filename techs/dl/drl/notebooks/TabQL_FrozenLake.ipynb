{
 "cells": [
  {
   "cell_type": "code",
   "execution_count": 27,
   "id": "04270a32",
   "metadata": {},
   "outputs": [],
   "source": [
    "import numpy as np\n",
    "import gym\n",
    "import collections\n",
    "from torch.utils.tensorboard import SummaryWriter"
   ]
  },
  {
   "cell_type": "markdown",
   "id": "92420b4f",
   "metadata": {},
   "source": [
    "### step1. load the env"
   ]
  },
  {
   "cell_type": "code",
   "execution_count": 10,
   "id": "92fed07f",
   "metadata": {},
   "outputs": [],
   "source": [
    "env_name = \"FrozenLake-v1\"\n",
    "env = gym.make(env_name)"
   ]
  },
  {
   "cell_type": "code",
   "execution_count": 11,
   "id": "60fad6d2",
   "metadata": {},
   "outputs": [
    {
     "data": {
      "text/plain": [
       "(16, 3)"
      ]
     },
     "execution_count": 11,
     "metadata": {},
     "output_type": "execute_result"
    }
   ],
   "source": [
    "# the observation space for FrozenLake is a 4x4 table, and the observation value represents the cell idx\n",
    "env.observation_space.n, env.observation_space.sample()"
   ]
  },
  {
   "cell_type": "code",
   "execution_count": 36,
   "id": "14e4be61",
   "metadata": {},
   "outputs": [
    {
     "data": {
      "text/plain": [
       "(4, 3)"
      ]
     },
     "execution_count": 36,
     "metadata": {},
     "output_type": "execute_result"
    }
   ],
   "source": [
    "# the action space for Frozenlake is 4 direction move\n",
    "env.action_space.n, env.action_space.sample()"
   ]
  },
  {
   "cell_type": "code",
   "execution_count": 30,
   "id": "37e64c8c",
   "metadata": {},
   "outputs": [],
   "source": [
    "def test(env_name, policy_func=None, step_limit=1000, render=True):\n",
    "    env = gym.make(env_name, render_mode=\"human\" if render else None)\n",
    "    obs, info = env.reset()\n",
    "    for step in range(step_limit):\n",
    "        # get action\n",
    "        if policy_func:\n",
    "            action, _ = policy_func(obs)\n",
    "        else: # random sample from action space as the default policy\n",
    "            action = env.action_space.sample()\n",
    "        # step the env\n",
    "        obs, reward, terminated, truncated, info = env.step(action)\n",
    "        # check if game is over\n",
    "        if terminated or truncated:\n",
    "            env.close()\n",
    "            print(f\"Game over with {step+1} steps\")\n",
    "            return\n",
    "    env.close()\n",
    "    print(f\"Time reached limits as {step_limit} steps\")"
   ]
  },
  {
   "cell_type": "code",
   "execution_count": 14,
   "id": "8c0217f6",
   "metadata": {},
   "outputs": [
    {
     "name": "stdout",
     "output_type": "stream",
     "text": [
      "Game over with 2 steps\n"
     ]
    }
   ],
   "source": [
    "test(env_name)"
   ]
  },
  {
   "cell_type": "markdown",
   "id": "3865688a",
   "metadata": {},
   "source": [
    "### step2. build the Q-learning agent"
   ]
  },
  {
   "cell_type": "code",
   "execution_count": 23,
   "id": "6ffe69b5",
   "metadata": {},
   "outputs": [],
   "source": [
    "class QLAgent:\n",
    "    def __init__(self, env_name, alpha=0.2, gamma=0.9):\n",
    "        # collections.defaultdict gives the missing key the default value instead of a KeyError\n",
    "        # where the default value is determined by the constructing param\n",
    "        \n",
    "        self.Qtable = collections.defaultdict(float) # self.Qtable[(s, a)] = action_value \n",
    "        self.alpha, self.gamma = alpha, gamma\n",
    "        self.sample_env = gym.make(env_name) # for sampling the data to update Qtable\n",
    "        self.action_space = [i for i in range(self.sample_env.action_space.n)]\n",
    "        self.state, info = self.sample_env.reset()\n",
    "    def policy(self, state):\n",
    "        # the policy is to search for the best action a which can maximize self.Qtable[(s, a)]\n",
    "        best_value, best_action = None, None\n",
    "        for action in self.action_space:\n",
    "            action_value = self.Qtable[(state, action)]\n",
    "            if best_value is None or best_value < action_value:\n",
    "                best_value, best_action = action_value, action\n",
    "        return best_action, best_value\n",
    "    def Qvalue_update(self):\n",
    "        # step1: sampling the updating data as a 4 elem tuple: (s, a, r, next_s)\n",
    "        s, a, r, next_s = self._sample()\n",
    "        \n",
    "        #  step2: update self.Qtable[(s, a)] \n",
    "        #  ← (1-alpha) * old_action_value + alpha * [ r + gamma * max_a' self.Qtable[(s', a')] ]\n",
    "        #  where alpha is the exponential reduction coeffecient, \n",
    "        #  and gamma is the reward reduction coeffecient\n",
    "        #  s' is the next state when applying action a when current state is s, with reward r\n",
    "        # and a' is the next best action\n",
    "        best_next_action, best_next_value = self.policy(next_s)\n",
    "        new_value = r + self.gamma * best_next_value\n",
    "        old_value = self.Qtable[(s,a)]\n",
    "        self.Qtable[(s,a)] = (1-self.alpha) * old_value + self.alpha * new_value\n",
    "        \n",
    "    def _sample(self):\n",
    "        # play the sampling env and sample one step data as a 4 elem tuple: (s, a, r, next_s)\n",
    "        action = self.sample_env.action_space.sample()\n",
    "        old_state = self.state\n",
    "        next_state, reward, terminated, truncated, info = self.sample_env.step(action)\n",
    "        if terminated or truncated:\n",
    "            self.state, _ = self.sample_env.reset()\n",
    "        else:\n",
    "            self.state = next_state\n",
    "        return (old_state, action, reward, next_state)\n",
    "    \n",
    "    def play(self, play_env):\n",
    "        epi_reward = 0.0\n",
    "        state, info = play_env.reset()\n",
    "        while True:\n",
    "            action, _ = self.policy(state)\n",
    "            next_state, reward, terminated, truncated, info = play_env.step(action)\n",
    "            epi_reward += reward\n",
    "            if terminated or truncated:\n",
    "                break\n",
    "            state = next_state\n",
    "        return epi_reward\n",
    "    \n",
    "    def close(self):\n",
    "        self.sample_env.close()"
   ]
  },
  {
   "cell_type": "code",
   "execution_count": 24,
   "id": "fcb77ca2",
   "metadata": {},
   "outputs": [],
   "source": [
    "agent = QLAgent(env_name)"
   ]
  },
  {
   "cell_type": "markdown",
   "id": "a386f096",
   "metadata": {},
   "source": [
    "### step3. train with sampling data to update Q table"
   ]
  },
  {
   "cell_type": "code",
   "execution_count": 25,
   "id": "4e821d1d",
   "metadata": {},
   "outputs": [],
   "source": [
    "def train(env_name, agent, writer, test_episodes=20, reward_bound=0.80):\n",
    "    # train_env is for sampling the data to update Q table\n",
    "    # test_env is for testing the performance of policy\n",
    "    test_env = gym.make(env_name)\n",
    "    iter_idx = 0\n",
    "    while True:\n",
    "        # update Q table\n",
    "        iter_idx += 1\n",
    "        agent.Qvalue_update()\n",
    "        # test policy\n",
    "        test_reward = 0.0\n",
    "        for _ in range(test_episodes):\n",
    "            test_reward += agent.play(test_env)\n",
    "        test_reward /= test_episodes\n",
    "        writer.add_scalar(\"reward\", test_reward, iter_idx)\n",
    "        if test_reward > reward_bound:\n",
    "            print(f\"Solved with {iter_idx} steps\")\n",
    "            break\n",
    "    # close the resources\n",
    "    writer.close()\n",
    "    test_env.close()\n",
    "    agent.close()"
   ]
  },
  {
   "cell_type": "code",
   "execution_count": 28,
   "id": "10f5b27f",
   "metadata": {},
   "outputs": [],
   "source": [
    "writer = SummaryWriter()"
   ]
  },
  {
   "cell_type": "code",
   "execution_count": 29,
   "id": "628034ef",
   "metadata": {},
   "outputs": [
    {
     "name": "stdout",
     "output_type": "stream",
     "text": [
      "Solved with 17119 steps\n"
     ]
    }
   ],
   "source": [
    "train(env_name, agent, writer)"
   ]
  },
  {
   "cell_type": "markdown",
   "id": "c18c54fb",
   "metadata": {},
   "source": [
    "### step4. test"
   ]
  },
  {
   "cell_type": "code",
   "execution_count": 35,
   "id": "ba3b40ab",
   "metadata": {},
   "outputs": [
    {
     "name": "stdout",
     "output_type": "stream",
     "text": [
      "Game over with 100 steps\n"
     ]
    }
   ],
   "source": [
    "test(env_name, policy_func=agent.policy)"
   ]
  },
  {
   "cell_type": "code",
   "execution_count": null,
   "id": "63cb99f9",
   "metadata": {},
   "outputs": [],
   "source": []
  }
 ],
 "metadata": {
  "kernelspec": {
   "display_name": "Python 3 (ipykernel)",
   "language": "python",
   "name": "python3"
  },
  "language_info": {
   "codemirror_mode": {
    "name": "ipython",
    "version": 3
   },
   "file_extension": ".py",
   "mimetype": "text/x-python",
   "name": "python",
   "nbconvert_exporter": "python",
   "pygments_lexer": "ipython3",
   "version": "3.9.13"
  }
 },
 "nbformat": 4,
 "nbformat_minor": 5
}
